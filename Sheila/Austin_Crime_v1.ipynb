{
 "cells": [
  {
   "cell_type": "code",
   "execution_count": null,
   "metadata": {},
   "outputs": [],
   "source": [
    "# File created for initial data cleaning and exploration"
   ]
  },
  {
   "cell_type": "code",
   "execution_count": 1,
   "metadata": {},
   "outputs": [],
   "source": [
    "import pandas as pd\n",
    "from prophet import Prophet\n",
    "import datetime as dt\n",
    "import numpy as np\n",
    "import matplotlib.pyplot as plt\n",
    "%matplotlib inline"
   ]
  },
  {
   "cell_type": "code",
   "execution_count": 2,
   "metadata": {},
   "outputs": [],
   "source": [
    "# Import Austin crime data and moon files\n",
    "austin_data_file = 'Austin_Crime_Data_Source_File.csv'\n",
    "moon_data_file = 'moon_data_export.csv'\n",
    "\n",
    "# Read the data into a pandas dataframe\n",
    "austin_df = pd.read_csv(austin_data_file)\n",
    "moon_df = pd.read_csv(moon_data_file)"
   ]
  },
  {
   "cell_type": "code",
   "execution_count": 3,
   "metadata": {},
   "outputs": [
    {
     "name": "stdout",
     "output_type": "stream",
     "text": [
      "<class 'pandas.core.frame.DataFrame'>\n",
      "RangeIndex: 500 entries, 0 to 499\n",
      "Data columns (total 2 columns):\n",
      " #   Column      Non-Null Count  Dtype         \n",
      "---  ------      --------------  -----         \n",
      " 0   Moon Phase  500 non-null    object        \n",
      " 1   Date        500 non-null    datetime64[ns]\n",
      "dtypes: datetime64[ns](1), object(1)\n",
      "memory usage: 7.9+ KB\n"
     ]
    },
    {
     "data": {
      "text/html": [
       "<div>\n",
       "<style scoped>\n",
       "    .dataframe tbody tr th:only-of-type {\n",
       "        vertical-align: middle;\n",
       "    }\n",
       "\n",
       "    .dataframe tbody tr th {\n",
       "        vertical-align: top;\n",
       "    }\n",
       "\n",
       "    .dataframe thead th {\n",
       "        text-align: right;\n",
       "    }\n",
       "</style>\n",
       "<table border=\"1\" class=\"dataframe\">\n",
       "  <thead>\n",
       "    <tr style=\"text-align: right;\">\n",
       "      <th></th>\n",
       "      <th>Moon Phase</th>\n",
       "      <th>Date</th>\n",
       "    </tr>\n",
       "  </thead>\n",
       "  <tbody>\n",
       "    <tr>\n",
       "      <th>0</th>\n",
       "      <td>Last Quarter</td>\n",
       "      <td>2023-01-15</td>\n",
       "    </tr>\n",
       "    <tr>\n",
       "      <th>1</th>\n",
       "      <td>New Moon</td>\n",
       "      <td>2023-01-21</td>\n",
       "    </tr>\n",
       "    <tr>\n",
       "      <th>2</th>\n",
       "      <td>First Quarter</td>\n",
       "      <td>2023-01-28</td>\n",
       "    </tr>\n",
       "    <tr>\n",
       "      <th>3</th>\n",
       "      <td>Full Moon</td>\n",
       "      <td>2023-02-05</td>\n",
       "    </tr>\n",
       "    <tr>\n",
       "      <th>4</th>\n",
       "      <td>Last Quarter</td>\n",
       "      <td>2023-02-13</td>\n",
       "    </tr>\n",
       "  </tbody>\n",
       "</table>\n",
       "</div>"
      ],
      "text/plain": [
       "      Moon Phase       Date\n",
       "0   Last Quarter 2023-01-15\n",
       "1       New Moon 2023-01-21\n",
       "2  First Quarter 2023-01-28\n",
       "3      Full Moon 2023-02-05\n",
       "4   Last Quarter 2023-02-13"
      ]
     },
     "execution_count": 3,
     "metadata": {},
     "output_type": "execute_result"
    }
   ],
   "source": [
    "# Drop Time (Universal Time) column from moon data\n",
    "moon_df = moon_df.drop(columns=[\"Time (Universal Time)\"])\n",
    "\n",
    "# Change Date column to datetime format\n",
    "moon_df['Date'] = pd.to_datetime(moon_df['Date'])\n",
    "\n",
    "# Display the first 5 rows of the moon data\n",
    "moon_df.info()\n",
    "moon_df.head()"
   ]
  },
  {
   "cell_type": "code",
   "execution_count": 4,
   "metadata": {},
   "outputs": [
    {
     "data": {
      "text/html": [
       "<div>\n",
       "<style scoped>\n",
       "    .dataframe tbody tr th:only-of-type {\n",
       "        vertical-align: middle;\n",
       "    }\n",
       "\n",
       "    .dataframe tbody tr th {\n",
       "        vertical-align: top;\n",
       "    }\n",
       "\n",
       "    .dataframe thead th {\n",
       "        text-align: right;\n",
       "    }\n",
       "</style>\n",
       "<table border=\"1\" class=\"dataframe\">\n",
       "  <thead>\n",
       "    <tr style=\"text-align: right;\">\n",
       "      <th></th>\n",
       "      <th>Incident Number</th>\n",
       "      <th>Highest Offense Description</th>\n",
       "      <th>Highest Offense Code</th>\n",
       "      <th>Family Violence</th>\n",
       "      <th>Occurred Date Time</th>\n",
       "      <th>Occurred Date</th>\n",
       "      <th>Occurred Time</th>\n",
       "      <th>Report Date Time</th>\n",
       "      <th>Report Date</th>\n",
       "      <th>Report Time</th>\n",
       "      <th>Location Type</th>\n",
       "      <th>Council District</th>\n",
       "      <th>APD Sector</th>\n",
       "      <th>APD District</th>\n",
       "      <th>Clearance Status</th>\n",
       "      <th>Clearance Date</th>\n",
       "      <th>UCR Category</th>\n",
       "      <th>Category Description</th>\n",
       "      <th>Census Block Group</th>\n",
       "    </tr>\n",
       "  </thead>\n",
       "  <tbody>\n",
       "    <tr>\n",
       "      <th>0</th>\n",
       "      <td>2002923330284</td>\n",
       "      <td>FAMILY DISTURBANCE</td>\n",
       "      <td>3400</td>\n",
       "      <td>N</td>\n",
       "      <td>01/29/2003  05:30</td>\n",
       "      <td>01/29/2003</td>\n",
       "      <td>530.0</td>\n",
       "      <td>11/29/2002  05:30</td>\n",
       "      <td>11/29/2002</td>\n",
       "      <td>530.0</td>\n",
       "      <td>RESIDENCE / HOME</td>\n",
       "      <td>6.0</td>\n",
       "      <td>AD</td>\n",
       "      <td>3</td>\n",
       "      <td>N</td>\n",
       "      <td>NaN</td>\n",
       "      <td>NaN</td>\n",
       "      <td>NaN</td>\n",
       "      <td>4.530341e+09</td>\n",
       "    </tr>\n",
       "    <tr>\n",
       "      <th>1</th>\n",
       "      <td>2003920010029</td>\n",
       "      <td>DEADLY CONDUCT</td>\n",
       "      <td>408</td>\n",
       "      <td>N</td>\n",
       "      <td>01/01/2003  00:01</td>\n",
       "      <td>01/01/2003</td>\n",
       "      <td>1.0</td>\n",
       "      <td>01/01/2003  00:01</td>\n",
       "      <td>01/01/2003</td>\n",
       "      <td>1.0</td>\n",
       "      <td>RESIDENCE / HOME</td>\n",
       "      <td>4.0</td>\n",
       "      <td>ID</td>\n",
       "      <td>4</td>\n",
       "      <td>N</td>\n",
       "      <td>NaN</td>\n",
       "      <td>13A</td>\n",
       "      <td>Aggravated Assault</td>\n",
       "      <td>4.530021e+09</td>\n",
       "    </tr>\n",
       "    <tr>\n",
       "      <th>2</th>\n",
       "      <td>2003920010046</td>\n",
       "      <td>BURGLARY NON RESIDENCE</td>\n",
       "      <td>502</td>\n",
       "      <td>N</td>\n",
       "      <td>01/01/2003  00:02</td>\n",
       "      <td>01/01/2003</td>\n",
       "      <td>2.0</td>\n",
       "      <td>01/01/2003  00:02</td>\n",
       "      <td>01/01/2003</td>\n",
       "      <td>2.0</td>\n",
       "      <td>COMMERCIAL / OFFICE BUILDING</td>\n",
       "      <td>2.0</td>\n",
       "      <td>DA</td>\n",
       "      <td>3</td>\n",
       "      <td>NaN</td>\n",
       "      <td>10/18/2003</td>\n",
       "      <td>220</td>\n",
       "      <td>Burglary</td>\n",
       "      <td>4.530024e+09</td>\n",
       "    </tr>\n",
       "    <tr>\n",
       "      <th>3</th>\n",
       "      <td>2003920010048</td>\n",
       "      <td>DEADLY CONDUCT</td>\n",
       "      <td>408</td>\n",
       "      <td>N</td>\n",
       "      <td>01/01/2003  00:03</td>\n",
       "      <td>01/01/2003</td>\n",
       "      <td>3.0</td>\n",
       "      <td>01/01/2003  00:03</td>\n",
       "      <td>01/01/2003</td>\n",
       "      <td>3.0</td>\n",
       "      <td>RESIDENCE / HOME</td>\n",
       "      <td>4.0</td>\n",
       "      <td>ID</td>\n",
       "      <td>2</td>\n",
       "      <td>C</td>\n",
       "      <td>01/02/2003</td>\n",
       "      <td>13A</td>\n",
       "      <td>Aggravated Assault</td>\n",
       "      <td>4.530402e+09</td>\n",
       "    </tr>\n",
       "    <tr>\n",
       "      <th>4</th>\n",
       "      <td>2003920010079</td>\n",
       "      <td>RESISTING ARREST OR SEARCH</td>\n",
       "      <td>905</td>\n",
       "      <td>N</td>\n",
       "      <td>01/01/2003  00:06</td>\n",
       "      <td>01/01/2003</td>\n",
       "      <td>6.0</td>\n",
       "      <td>01/01/2003  00:06</td>\n",
       "      <td>01/01/2003</td>\n",
       "      <td>6.0</td>\n",
       "      <td>RESIDENCE / HOME</td>\n",
       "      <td>3.0</td>\n",
       "      <td>CH</td>\n",
       "      <td>2</td>\n",
       "      <td>C</td>\n",
       "      <td>01/01/2003</td>\n",
       "      <td>NaN</td>\n",
       "      <td>NaN</td>\n",
       "      <td>4.530009e+09</td>\n",
       "    </tr>\n",
       "  </tbody>\n",
       "</table>\n",
       "</div>"
      ],
      "text/plain": [
       "   Incident Number Highest Offense Description  Highest Offense Code  \\\n",
       "0    2002923330284          FAMILY DISTURBANCE                  3400   \n",
       "1    2003920010029              DEADLY CONDUCT                   408   \n",
       "2    2003920010046      BURGLARY NON RESIDENCE                   502   \n",
       "3    2003920010048              DEADLY CONDUCT                   408   \n",
       "4    2003920010079  RESISTING ARREST OR SEARCH                   905   \n",
       "\n",
       "  Family Violence Occurred Date Time Occurred Date  Occurred Time  \\\n",
       "0               N  01/29/2003  05:30    01/29/2003          530.0   \n",
       "1               N  01/01/2003  00:01    01/01/2003            1.0   \n",
       "2               N  01/01/2003  00:02    01/01/2003            2.0   \n",
       "3               N  01/01/2003  00:03    01/01/2003            3.0   \n",
       "4               N  01/01/2003  00:06    01/01/2003            6.0   \n",
       "\n",
       "    Report Date Time Report Date  Report Time                 Location Type  \\\n",
       "0  11/29/2002  05:30  11/29/2002        530.0              RESIDENCE / HOME   \n",
       "1  01/01/2003  00:01  01/01/2003          1.0              RESIDENCE / HOME   \n",
       "2  01/01/2003  00:02  01/01/2003          2.0  COMMERCIAL / OFFICE BUILDING   \n",
       "3  01/01/2003  00:03  01/01/2003          3.0              RESIDENCE / HOME   \n",
       "4  01/01/2003  00:06  01/01/2003          6.0              RESIDENCE / HOME   \n",
       "\n",
       "   Council District APD Sector APD District Clearance Status Clearance Date  \\\n",
       "0               6.0         AD            3                N            NaN   \n",
       "1               4.0         ID            4                N            NaN   \n",
       "2               2.0         DA            3              NaN     10/18/2003   \n",
       "3               4.0         ID            2                C     01/02/2003   \n",
       "4               3.0         CH            2                C     01/01/2003   \n",
       "\n",
       "  UCR Category Category Description  Census Block Group  \n",
       "0          NaN                  NaN        4.530341e+09  \n",
       "1          13A   Aggravated Assault        4.530021e+09  \n",
       "2          220             Burglary        4.530024e+09  \n",
       "3          13A   Aggravated Assault        4.530402e+09  \n",
       "4          NaN                  NaN        4.530009e+09  "
      ]
     },
     "execution_count": 4,
     "metadata": {},
     "output_type": "execute_result"
    }
   ],
   "source": [
    "# Check the first 5 rows of the Austin data\n",
    "austin_df.head()"
   ]
  },
  {
   "cell_type": "code",
   "execution_count": null,
   "metadata": {},
   "outputs": [
    {
     "name": "stdout",
     "output_type": "stream",
     "text": [
      "<class 'pandas.core.frame.DataFrame'>\n",
      "RangeIndex: 2522585 entries, 0 to 2522584\n",
      "Data columns (total 2 columns):\n",
      " #   Column   Dtype         \n",
      "---  ------   -----         \n",
      " 0   Date     datetime64[ns]\n",
      " 1   Offense  object        \n",
      "dtypes: datetime64[ns](1), object(1)\n",
      "memory usage: 38.5+ MB\n"
     ]
    },
    {
     "name": "stderr",
     "output_type": "stream",
     "text": [
      "C:\\Users\\Sheila\\AppData\\Local\\Temp\\ipykernel_212\\803672064.py:10: SettingWithCopyWarning: \n",
      "A value is trying to be set on a copy of a slice from a DataFrame.\n",
      "Try using .loc[row_indexer,col_indexer] = value instead\n",
      "\n",
      "See the caveats in the documentation: https://pandas.pydata.org/pandas-docs/stable/user_guide/indexing.html#returning-a-view-versus-a-copy\n",
      "  austin_crime_df['Date'] = pd.to_datetime(austin_crime_df['Date']).dt.floor('D')\n"
     ]
    },
    {
     "data": {
      "text/html": [
       "<div>\n",
       "<style scoped>\n",
       "    .dataframe tbody tr th:only-of-type {\n",
       "        vertical-align: middle;\n",
       "    }\n",
       "\n",
       "    .dataframe tbody tr th {\n",
       "        vertical-align: top;\n",
       "    }\n",
       "\n",
       "    .dataframe thead th {\n",
       "        text-align: right;\n",
       "    }\n",
       "</style>\n",
       "<table border=\"1\" class=\"dataframe\">\n",
       "  <thead>\n",
       "    <tr style=\"text-align: right;\">\n",
       "      <th></th>\n",
       "      <th>Date</th>\n",
       "      <th>Offense</th>\n",
       "    </tr>\n",
       "  </thead>\n",
       "  <tbody>\n",
       "    <tr>\n",
       "      <th>0</th>\n",
       "      <td>2003-01-29</td>\n",
       "      <td>FAMILY DISTURBANCE</td>\n",
       "    </tr>\n",
       "    <tr>\n",
       "      <th>1</th>\n",
       "      <td>2003-01-01</td>\n",
       "      <td>DEADLY CONDUCT</td>\n",
       "    </tr>\n",
       "    <tr>\n",
       "      <th>2</th>\n",
       "      <td>2003-01-01</td>\n",
       "      <td>BURGLARY NON RESIDENCE</td>\n",
       "    </tr>\n",
       "    <tr>\n",
       "      <th>3</th>\n",
       "      <td>2003-01-01</td>\n",
       "      <td>DEADLY CONDUCT</td>\n",
       "    </tr>\n",
       "    <tr>\n",
       "      <th>4</th>\n",
       "      <td>2003-01-01</td>\n",
       "      <td>RESISTING ARREST OR SEARCH</td>\n",
       "    </tr>\n",
       "  </tbody>\n",
       "</table>\n",
       "</div>"
      ],
      "text/plain": [
       "        Date                     Offense\n",
       "0 2003-01-29          FAMILY DISTURBANCE\n",
       "1 2003-01-01              DEADLY CONDUCT\n",
       "2 2003-01-01      BURGLARY NON RESIDENCE\n",
       "3 2003-01-01              DEADLY CONDUCT\n",
       "4 2003-01-01  RESISTING ARREST OR SEARCH"
      ]
     },
     "execution_count": 5,
     "metadata": {},
     "output_type": "execute_result"
    }
   ],
   "source": [
    "# Clean up Austin crime data to only include relevant columns: Date as datetime, and Offense\n",
    "# Fill in missing values and display the first 5 rows of the cleaned data\n",
    "\n",
    "austin_crime_df = austin_df[['Occurred Date', 'Highest Offense Description']]\n",
    "\n",
    "# Rename columns\n",
    "austin_crime_df.columns = ['Date', 'Offense']\n",
    "\n",
    "# Convert 'Occurred Date' to datetime format and ensure consistency (set day as smallest increment)\n",
    "austin_crime_df['Date'] = pd.to_datetime(austin_crime_df['Date']).dt.floor('D') # Removes time from date\n",
    "\n",
    "# Check for cleaned Austin data\n",
    "austin_crime_df.info()\n",
    "austin_crime_df.head()\n"
   ]
  },
  {
   "cell_type": "code",
   "execution_count": 6,
   "metadata": {},
   "outputs": [
    {
     "data": {
      "text/plain": [
       "(495, 2)"
      ]
     },
     "execution_count": 6,
     "metadata": {},
     "output_type": "execute_result"
    }
   ],
   "source": [
    "moon_limited = moon_df.drop_duplicates(subset=[\"Date\"])\n",
    "moon_limited.shape"
   ]
  },
  {
   "cell_type": "code",
   "execution_count": 7,
   "metadata": {},
   "outputs": [
    {
     "name": "stdout",
     "output_type": "stream",
     "text": [
      "<class 'pandas.core.frame.DataFrame'>\n",
      "RangeIndex: 2522585 entries, 0 to 2522584\n",
      "Data columns (total 3 columns):\n",
      " #   Column      Dtype         \n",
      "---  ------      -----         \n",
      " 0   Date        datetime64[ns]\n",
      " 1   Offense     object        \n",
      " 2   Moon Phase  object        \n",
      "dtypes: datetime64[ns](1), object(2)\n",
      "memory usage: 57.7+ MB\n"
     ]
    },
    {
     "data": {
      "text/html": [
       "<div>\n",
       "<style scoped>\n",
       "    .dataframe tbody tr th:only-of-type {\n",
       "        vertical-align: middle;\n",
       "    }\n",
       "\n",
       "    .dataframe tbody tr th {\n",
       "        vertical-align: top;\n",
       "    }\n",
       "\n",
       "    .dataframe thead th {\n",
       "        text-align: right;\n",
       "    }\n",
       "</style>\n",
       "<table border=\"1\" class=\"dataframe\">\n",
       "  <thead>\n",
       "    <tr style=\"text-align: right;\">\n",
       "      <th></th>\n",
       "      <th>Date</th>\n",
       "      <th>Offense</th>\n",
       "      <th>Moon Phase</th>\n",
       "    </tr>\n",
       "  </thead>\n",
       "  <tbody>\n",
       "    <tr>\n",
       "      <th>0</th>\n",
       "      <td>2003-01-29</td>\n",
       "      <td>FAMILY DISTURBANCE</td>\n",
       "      <td>Other</td>\n",
       "    </tr>\n",
       "    <tr>\n",
       "      <th>1</th>\n",
       "      <td>2003-01-01</td>\n",
       "      <td>DEADLY CONDUCT</td>\n",
       "      <td>Other</td>\n",
       "    </tr>\n",
       "    <tr>\n",
       "      <th>2</th>\n",
       "      <td>2003-01-01</td>\n",
       "      <td>BURGLARY NON RESIDENCE</td>\n",
       "      <td>Other</td>\n",
       "    </tr>\n",
       "    <tr>\n",
       "      <th>3</th>\n",
       "      <td>2003-01-01</td>\n",
       "      <td>DEADLY CONDUCT</td>\n",
       "      <td>Other</td>\n",
       "    </tr>\n",
       "    <tr>\n",
       "      <th>4</th>\n",
       "      <td>2003-01-01</td>\n",
       "      <td>RESISTING ARREST OR SEARCH</td>\n",
       "      <td>Other</td>\n",
       "    </tr>\n",
       "  </tbody>\n",
       "</table>\n",
       "</div>"
      ],
      "text/plain": [
       "        Date                     Offense Moon Phase\n",
       "0 2003-01-29          FAMILY DISTURBANCE      Other\n",
       "1 2003-01-01              DEADLY CONDUCT      Other\n",
       "2 2003-01-01      BURGLARY NON RESIDENCE      Other\n",
       "3 2003-01-01              DEADLY CONDUCT      Other\n",
       "4 2003-01-01  RESISTING ARREST OR SEARCH      Other"
      ]
     },
     "execution_count": 7,
     "metadata": {},
     "output_type": "execute_result"
    }
   ],
   "source": [
    "# Merge dataframes and fill absent moon phase values with \"Other\"\n",
    "merged_Austin_df = austin_crime_df.merge(\n",
    "    moon_limited,\n",
    "    how=\"left\",\n",
    "    on=\"Date\"\n",
    ").fillna(\"Other\")\n",
    "\n",
    "#Display the first 5 rows of the merged data\n",
    "merged_Austin_df.info()\n",
    "merged_Austin_df.head()"
   ]
  },
  {
   "cell_type": "code",
   "execution_count": 8,
   "metadata": {},
   "outputs": [],
   "source": [
    "# Create a dictionary of full moon and other counts for total rows (i.e. individual crimes)\n",
    "moon_phase_crimes = merged_Austin_df[\"Moon Phase\"].value_counts().to_dict()\n",
    "\n",
    "# Replace specific moon phases with \"Other\"\n",
    "moon_phase_crimes[\"Other\"] = moon_phase_crimes.pop(\"New Moon\", 0) + moon_phase_crimes.pop(\"First Quarter\", 0) + moon_phase_crimes.pop(\"Last Quarter\", 0)"
   ]
  },
  {
   "cell_type": "code",
   "execution_count": 9,
   "metadata": {},
   "outputs": [
    {
     "data": {
      "text/plain": [
       "7552"
      ]
     },
     "execution_count": 9,
     "metadata": {},
     "output_type": "execute_result"
    }
   ],
   "source": [
    "# Get a total count for non-full-moon dates (i.e. days with \"Other\")\n",
    "other_dates = merged_Austin_df[merged_Austin_df[\"Moon Phase\"] == \"Other\"]\n",
    "days_other_moon = other_dates[\"Date\"].nunique()\n",
    "days_other_moon"
   ]
  },
  {
   "cell_type": "code",
   "execution_count": 10,
   "metadata": {},
   "outputs": [
    {
     "data": {
      "text/plain": [
       "(33754, 101670)"
      ]
     },
     "execution_count": 10,
     "metadata": {},
     "output_type": "execute_result"
    }
   ],
   "source": [
    "# Get a total count for individual crimes in each condition\n",
    "days_full_moon = 124\n",
    "full_moon_crimes = moon_phase_crimes.get(\"Full Moon\")\n",
    "other_moon_crimes = moon_phase_crimes.get(\"Other\")\n",
    "full_moon_crimes, other_moon_crimes \n"
   ]
  },
  {
   "cell_type": "code",
   "execution_count": 11,
   "metadata": {},
   "outputs": [
    {
     "name": "stdout",
     "output_type": "stream",
     "text": [
      "The crime rate during a full moon is 272.21 against a control rate of 13.46.\n",
      "These initial findings indicate a increased crime rate of 1921.96% above the base line.\n"
     ]
    }
   ],
   "source": [
    "# Do the math for crime rate and percentage increase\n",
    "full_crime_rate = full_moon_crimes / days_full_moon\n",
    "other_crime_rate = other_moon_crimes / days_other_moon\n",
    "percent_increase = (full_crime_rate / other_crime_rate - 1) * 100\n",
    "\n",
    "print(f\"The crime rate during a full moon is {full_crime_rate:.2f} against a control rate of {other_crime_rate:.2f}.\")\n",
    "print(f\"These initial findings indicate a increased crime rate of {percent_increase:.2f}% above the base line.\")"
   ]
  }
 ],
 "metadata": {
  "kernelspec": {
   "display_name": "dev",
   "language": "python",
   "name": "python3"
  },
  "language_info": {
   "codemirror_mode": {
    "name": "ipython",
    "version": 3
   },
   "file_extension": ".py",
   "mimetype": "text/x-python",
   "name": "python",
   "nbconvert_exporter": "python",
   "pygments_lexer": "ipython3",
   "version": "3.10.15"
  }
 },
 "nbformat": 4,
 "nbformat_minor": 2
}
