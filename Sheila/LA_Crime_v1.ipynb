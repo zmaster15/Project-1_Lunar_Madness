{
 "cells": [
  {
   "cell_type": "code",
   "execution_count": null,
   "metadata": {},
   "outputs": [],
   "source": [
    "# # File created for initial data cleaning and exploration"
   ]
  },
  {
   "cell_type": "code",
   "execution_count": 1,
   "metadata": {},
   "outputs": [],
   "source": [
    "import pandas as pd\n",
    "from prophet import Prophet\n",
    "import datetime as dt\n",
    "import numpy as np\n",
    "import matplotlib.pyplot as plt\n",
    "%matplotlib inline"
   ]
  },
  {
   "cell_type": "code",
   "execution_count": 6,
   "metadata": {},
   "outputs": [],
   "source": [
    "# Import Los Angeles crime data and moon files\n",
    "LA_data_file = 'LA_Crime_Data_Source_File.csv'\n",
    "moon_data_file = 'moon_data_export.csv'\n",
    "\n",
    "# Read the data into a pandas dataframe\n",
    "LA_df = pd.read_csv(LA_data_file)\n",
    "moon_df = pd.read_csv(moon_data_file)"
   ]
  },
  {
   "cell_type": "code",
   "execution_count": 9,
   "metadata": {},
   "outputs": [
    {
     "name": "stderr",
     "output_type": "stream",
     "text": [
      "C:\\Users\\Sheila\\AppData\\Local\\Temp\\ipykernel_23592\\1767251723.py:6: UserWarning: Could not infer format, so each element will be parsed individually, falling back to `dateutil`. To ensure parsing is consistent and as-expected, please specify a format.\n",
      "  LA_df['DATE OCC'] = pd.to_datetime(LA_df['DATE OCC'])\n"
     ]
    },
    {
     "name": "stdout",
     "output_type": "stream",
     "text": [
      "<class 'pandas.core.frame.DataFrame'>\n",
      "RangeIndex: 500 entries, 0 to 499\n",
      "Data columns (total 2 columns):\n",
      " #   Column      Non-Null Count  Dtype         \n",
      "---  ------      --------------  -----         \n",
      " 0   Moon Phase  500 non-null    object        \n",
      " 1   Date        500 non-null    datetime64[ns]\n",
      "dtypes: datetime64[ns](1), object(1)\n",
      "memory usage: 7.9+ KB\n",
      "<class 'pandas.core.frame.DataFrame'>\n",
      "RangeIndex: 1004681 entries, 0 to 1004680\n",
      "Data columns (total 28 columns):\n",
      " #   Column          Non-Null Count    Dtype         \n",
      "---  ------          --------------    -----         \n",
      " 0   DR_NO           1004681 non-null  int64         \n",
      " 1   Date Rptd       1004681 non-null  object        \n",
      " 2   DATE OCC        1004681 non-null  datetime64[ns]\n",
      " 3   TIME OCC        1004681 non-null  int64         \n",
      " 4   AREA            1004681 non-null  int64         \n",
      " 5   AREA NAME       1004681 non-null  object        \n",
      " 6   Rpt Dist No     1004681 non-null  int64         \n",
      " 7   Part 1-2        1004681 non-null  int64         \n",
      " 8   Crm Cd          1004681 non-null  int64         \n",
      " 9   Crm Cd Desc     1004681 non-null  object        \n",
      " 10  Mocodes         853090 non-null   object        \n",
      " 11  Vict Age        1004681 non-null  int64         \n",
      " 12  Vict Sex        860075 non-null   object        \n",
      " 13  Vict Descent    860063 non-null   object        \n",
      " 14  Premis Cd       1004665 non-null  float64       \n",
      " 15  Premis Desc     1004093 non-null  object        \n",
      " 16  Weapon Used Cd  327169 non-null   float64       \n",
      " 17  Weapon Desc     327169 non-null   object        \n",
      " 18  Status          1004680 non-null  object        \n",
      " 19  Status Desc     1004681 non-null  object        \n",
      " 20  Crm Cd 1        1004670 non-null  float64       \n",
      " 21  Crm Cd 2        69124 non-null    float64       \n",
      " 22  Crm Cd 3        2315 non-null     float64       \n",
      " 23  Crm Cd 4        64 non-null       float64       \n",
      " 24  LOCATION        1004681 non-null  object        \n",
      " 25  Cross Street    154213 non-null   object        \n",
      " 26  LAT             1004681 non-null  float64       \n",
      " 27  LON             1004681 non-null  float64       \n",
      "dtypes: datetime64[ns](1), float64(8), int64(7), object(12)\n",
      "memory usage: 214.6+ MB\n"
     ]
    }
   ],
   "source": [
    "# Change Date column to datetime format\n",
    "moon_df['Date'] = pd.to_datetime(moon_df['Date'])\n",
    "LA_df['DATE OCC'] = pd.to_datetime(LA_df['DATE OCC'])\n",
    "\n",
    "# Display the first 5 rows of the moon data\n",
    "moon_df.info()\n",
    "LA_df.info()"
   ]
  },
  {
   "cell_type": "code",
   "execution_count": 10,
   "metadata": {},
   "outputs": [
    {
     "data": {
      "text/html": [
       "<div>\n",
       "<style scoped>\n",
       "    .dataframe tbody tr th:only-of-type {\n",
       "        vertical-align: middle;\n",
       "    }\n",
       "\n",
       "    .dataframe tbody tr th {\n",
       "        vertical-align: top;\n",
       "    }\n",
       "\n",
       "    .dataframe thead th {\n",
       "        text-align: right;\n",
       "    }\n",
       "</style>\n",
       "<table border=\"1\" class=\"dataframe\">\n",
       "  <thead>\n",
       "    <tr style=\"text-align: right;\">\n",
       "      <th></th>\n",
       "      <th>DR_NO</th>\n",
       "      <th>Date Rptd</th>\n",
       "      <th>DATE OCC</th>\n",
       "      <th>TIME OCC</th>\n",
       "      <th>AREA</th>\n",
       "      <th>AREA NAME</th>\n",
       "      <th>Rpt Dist No</th>\n",
       "      <th>Part 1-2</th>\n",
       "      <th>Crm Cd</th>\n",
       "      <th>Crm Cd Desc</th>\n",
       "      <th>...</th>\n",
       "      <th>Status</th>\n",
       "      <th>Status Desc</th>\n",
       "      <th>Crm Cd 1</th>\n",
       "      <th>Crm Cd 2</th>\n",
       "      <th>Crm Cd 3</th>\n",
       "      <th>Crm Cd 4</th>\n",
       "      <th>LOCATION</th>\n",
       "      <th>Cross Street</th>\n",
       "      <th>LAT</th>\n",
       "      <th>LON</th>\n",
       "    </tr>\n",
       "  </thead>\n",
       "  <tbody>\n",
       "    <tr>\n",
       "      <th>0</th>\n",
       "      <td>190326475</td>\n",
       "      <td>03/01/2020 12:00:00 AM</td>\n",
       "      <td>2020-03-01</td>\n",
       "      <td>2130</td>\n",
       "      <td>7</td>\n",
       "      <td>Wilshire</td>\n",
       "      <td>784</td>\n",
       "      <td>1</td>\n",
       "      <td>510</td>\n",
       "      <td>VEHICLE - STOLEN</td>\n",
       "      <td>...</td>\n",
       "      <td>AA</td>\n",
       "      <td>Adult Arrest</td>\n",
       "      <td>510.0</td>\n",
       "      <td>998.0</td>\n",
       "      <td>NaN</td>\n",
       "      <td>NaN</td>\n",
       "      <td>1900 S  LONGWOOD                     AV</td>\n",
       "      <td>NaN</td>\n",
       "      <td>34.0375</td>\n",
       "      <td>-118.3506</td>\n",
       "    </tr>\n",
       "    <tr>\n",
       "      <th>1</th>\n",
       "      <td>200106753</td>\n",
       "      <td>02/09/2020 12:00:00 AM</td>\n",
       "      <td>2020-02-08</td>\n",
       "      <td>1800</td>\n",
       "      <td>1</td>\n",
       "      <td>Central</td>\n",
       "      <td>182</td>\n",
       "      <td>1</td>\n",
       "      <td>330</td>\n",
       "      <td>BURGLARY FROM VEHICLE</td>\n",
       "      <td>...</td>\n",
       "      <td>IC</td>\n",
       "      <td>Invest Cont</td>\n",
       "      <td>330.0</td>\n",
       "      <td>998.0</td>\n",
       "      <td>NaN</td>\n",
       "      <td>NaN</td>\n",
       "      <td>1000 S  FLOWER                       ST</td>\n",
       "      <td>NaN</td>\n",
       "      <td>34.0444</td>\n",
       "      <td>-118.2628</td>\n",
       "    </tr>\n",
       "    <tr>\n",
       "      <th>2</th>\n",
       "      <td>200320258</td>\n",
       "      <td>11/11/2020 12:00:00 AM</td>\n",
       "      <td>2020-11-04</td>\n",
       "      <td>1700</td>\n",
       "      <td>3</td>\n",
       "      <td>Southwest</td>\n",
       "      <td>356</td>\n",
       "      <td>1</td>\n",
       "      <td>480</td>\n",
       "      <td>BIKE - STOLEN</td>\n",
       "      <td>...</td>\n",
       "      <td>IC</td>\n",
       "      <td>Invest Cont</td>\n",
       "      <td>480.0</td>\n",
       "      <td>NaN</td>\n",
       "      <td>NaN</td>\n",
       "      <td>NaN</td>\n",
       "      <td>1400 W  37TH                         ST</td>\n",
       "      <td>NaN</td>\n",
       "      <td>34.0210</td>\n",
       "      <td>-118.3002</td>\n",
       "    </tr>\n",
       "    <tr>\n",
       "      <th>3</th>\n",
       "      <td>200907217</td>\n",
       "      <td>05/10/2023 12:00:00 AM</td>\n",
       "      <td>2020-03-10</td>\n",
       "      <td>2037</td>\n",
       "      <td>9</td>\n",
       "      <td>Van Nuys</td>\n",
       "      <td>964</td>\n",
       "      <td>1</td>\n",
       "      <td>343</td>\n",
       "      <td>SHOPLIFTING-GRAND THEFT ($950.01 &amp; OVER)</td>\n",
       "      <td>...</td>\n",
       "      <td>IC</td>\n",
       "      <td>Invest Cont</td>\n",
       "      <td>343.0</td>\n",
       "      <td>NaN</td>\n",
       "      <td>NaN</td>\n",
       "      <td>NaN</td>\n",
       "      <td>14000    RIVERSIDE                    DR</td>\n",
       "      <td>NaN</td>\n",
       "      <td>34.1576</td>\n",
       "      <td>-118.4387</td>\n",
       "    </tr>\n",
       "    <tr>\n",
       "      <th>4</th>\n",
       "      <td>200412582</td>\n",
       "      <td>09/09/2020 12:00:00 AM</td>\n",
       "      <td>2020-09-09</td>\n",
       "      <td>630</td>\n",
       "      <td>4</td>\n",
       "      <td>Hollenbeck</td>\n",
       "      <td>413</td>\n",
       "      <td>1</td>\n",
       "      <td>510</td>\n",
       "      <td>VEHICLE - STOLEN</td>\n",
       "      <td>...</td>\n",
       "      <td>IC</td>\n",
       "      <td>Invest Cont</td>\n",
       "      <td>510.0</td>\n",
       "      <td>NaN</td>\n",
       "      <td>NaN</td>\n",
       "      <td>NaN</td>\n",
       "      <td>200 E  AVENUE 28</td>\n",
       "      <td>NaN</td>\n",
       "      <td>34.0820</td>\n",
       "      <td>-118.2130</td>\n",
       "    </tr>\n",
       "  </tbody>\n",
       "</table>\n",
       "<p>5 rows × 28 columns</p>\n",
       "</div>"
      ],
      "text/plain": [
       "       DR_NO               Date Rptd   DATE OCC  TIME OCC  AREA   AREA NAME  \\\n",
       "0  190326475  03/01/2020 12:00:00 AM 2020-03-01      2130     7    Wilshire   \n",
       "1  200106753  02/09/2020 12:00:00 AM 2020-02-08      1800     1     Central   \n",
       "2  200320258  11/11/2020 12:00:00 AM 2020-11-04      1700     3   Southwest   \n",
       "3  200907217  05/10/2023 12:00:00 AM 2020-03-10      2037     9    Van Nuys   \n",
       "4  200412582  09/09/2020 12:00:00 AM 2020-09-09       630     4  Hollenbeck   \n",
       "\n",
       "   Rpt Dist No  Part 1-2  Crm Cd                               Crm Cd Desc  \\\n",
       "0          784         1     510                          VEHICLE - STOLEN   \n",
       "1          182         1     330                     BURGLARY FROM VEHICLE   \n",
       "2          356         1     480                             BIKE - STOLEN   \n",
       "3          964         1     343  SHOPLIFTING-GRAND THEFT ($950.01 & OVER)   \n",
       "4          413         1     510                          VEHICLE - STOLEN   \n",
       "\n",
       "   ... Status   Status Desc Crm Cd 1 Crm Cd 2  Crm Cd 3 Crm Cd 4  \\\n",
       "0  ...     AA  Adult Arrest    510.0    998.0       NaN      NaN   \n",
       "1  ...     IC   Invest Cont    330.0    998.0       NaN      NaN   \n",
       "2  ...     IC   Invest Cont    480.0      NaN       NaN      NaN   \n",
       "3  ...     IC   Invest Cont    343.0      NaN       NaN      NaN   \n",
       "4  ...     IC   Invest Cont    510.0      NaN       NaN      NaN   \n",
       "\n",
       "                                   LOCATION Cross Street      LAT       LON  \n",
       "0   1900 S  LONGWOOD                     AV          NaN  34.0375 -118.3506  \n",
       "1   1000 S  FLOWER                       ST          NaN  34.0444 -118.2628  \n",
       "2   1400 W  37TH                         ST          NaN  34.0210 -118.3002  \n",
       "3  14000    RIVERSIDE                    DR          NaN  34.1576 -118.4387  \n",
       "4                          200 E  AVENUE 28          NaN  34.0820 -118.2130  \n",
       "\n",
       "[5 rows x 28 columns]"
      ]
     },
     "execution_count": 10,
     "metadata": {},
     "output_type": "execute_result"
    }
   ],
   "source": [
    "# Check the first 5 rows of the LA crime data\n",
    "LA_df.head()"
   ]
  },
  {
   "cell_type": "code",
   "execution_count": 11,
   "metadata": {},
   "outputs": [
    {
     "name": "stdout",
     "output_type": "stream",
     "text": [
      "<class 'pandas.core.frame.DataFrame'>\n",
      "RangeIndex: 1004681 entries, 0 to 1004680\n",
      "Data columns (total 2 columns):\n",
      " #   Column   Non-Null Count    Dtype         \n",
      "---  ------   --------------    -----         \n",
      " 0   Date     1004681 non-null  datetime64[ns]\n",
      " 1   Offense  1004681 non-null  object        \n",
      "dtypes: datetime64[ns](1), object(1)\n",
      "memory usage: 15.3+ MB\n"
     ]
    },
    {
     "name": "stderr",
     "output_type": "stream",
     "text": [
      "C:\\Users\\Sheila\\AppData\\Local\\Temp\\ipykernel_23592\\2230349433.py:10: SettingWithCopyWarning: \n",
      "A value is trying to be set on a copy of a slice from a DataFrame.\n",
      "Try using .loc[row_indexer,col_indexer] = value instead\n",
      "\n",
      "See the caveats in the documentation: https://pandas.pydata.org/pandas-docs/stable/user_guide/indexing.html#returning-a-view-versus-a-copy\n",
      "  LA_crime_df['Date'] = pd.to_datetime(LA_crime_df['Date']).dt.floor('D')\n"
     ]
    },
    {
     "data": {
      "text/html": [
       "<div>\n",
       "<style scoped>\n",
       "    .dataframe tbody tr th:only-of-type {\n",
       "        vertical-align: middle;\n",
       "    }\n",
       "\n",
       "    .dataframe tbody tr th {\n",
       "        vertical-align: top;\n",
       "    }\n",
       "\n",
       "    .dataframe thead th {\n",
       "        text-align: right;\n",
       "    }\n",
       "</style>\n",
       "<table border=\"1\" class=\"dataframe\">\n",
       "  <thead>\n",
       "    <tr style=\"text-align: right;\">\n",
       "      <th></th>\n",
       "      <th>Date</th>\n",
       "      <th>Offense</th>\n",
       "    </tr>\n",
       "  </thead>\n",
       "  <tbody>\n",
       "    <tr>\n",
       "      <th>0</th>\n",
       "      <td>2020-03-01</td>\n",
       "      <td>VEHICLE - STOLEN</td>\n",
       "    </tr>\n",
       "    <tr>\n",
       "      <th>1</th>\n",
       "      <td>2020-02-08</td>\n",
       "      <td>BURGLARY FROM VEHICLE</td>\n",
       "    </tr>\n",
       "    <tr>\n",
       "      <th>2</th>\n",
       "      <td>2020-11-04</td>\n",
       "      <td>BIKE - STOLEN</td>\n",
       "    </tr>\n",
       "    <tr>\n",
       "      <th>3</th>\n",
       "      <td>2020-03-10</td>\n",
       "      <td>SHOPLIFTING-GRAND THEFT ($950.01 &amp; OVER)</td>\n",
       "    </tr>\n",
       "    <tr>\n",
       "      <th>4</th>\n",
       "      <td>2020-09-09</td>\n",
       "      <td>VEHICLE - STOLEN</td>\n",
       "    </tr>\n",
       "  </tbody>\n",
       "</table>\n",
       "</div>"
      ],
      "text/plain": [
       "        Date                                   Offense\n",
       "0 2020-03-01                          VEHICLE - STOLEN\n",
       "1 2020-02-08                     BURGLARY FROM VEHICLE\n",
       "2 2020-11-04                             BIKE - STOLEN\n",
       "3 2020-03-10  SHOPLIFTING-GRAND THEFT ($950.01 & OVER)\n",
       "4 2020-09-09                          VEHICLE - STOLEN"
      ]
     },
     "execution_count": 11,
     "metadata": {},
     "output_type": "execute_result"
    }
   ],
   "source": [
    "# Clean up LA crime data to only include relevant columns: Date as datetime, and Offense\n",
    "# Fill in missing values and display the first 5 rows of the cleaned data\n",
    "\n",
    "LA_crime_df = LA_df[['DATE OCC', 'Crm Cd Desc']]\n",
    "\n",
    "# Rename columns\n",
    "LA_crime_df.columns = ['Date', 'Offense']\n",
    "\n",
    "# Convert 'Occurred Date' to datetime format and ensure consistency (set day as smallest increment)\n",
    "LA_crime_df['Date'] = pd.to_datetime(LA_crime_df['Date']).dt.floor('D')\n",
    "\n",
    "# Check for cleaned Austin data\n",
    "LA_crime_df.info()\n",
    "LA_crime_df.head()\n"
   ]
  },
  {
   "cell_type": "code",
   "execution_count": 12,
   "metadata": {},
   "outputs": [
    {
     "data": {
      "text/plain": [
       "(495, 2)"
      ]
     },
     "execution_count": 12,
     "metadata": {},
     "output_type": "execute_result"
    }
   ],
   "source": [
    "moon_limited = moon_df.drop_duplicates(subset=[\"Date\"])\n",
    "moon_limited.shape"
   ]
  },
  {
   "cell_type": "code",
   "execution_count": 13,
   "metadata": {},
   "outputs": [
    {
     "name": "stdout",
     "output_type": "stream",
     "text": [
      "<class 'pandas.core.frame.DataFrame'>\n",
      "RangeIndex: 1004681 entries, 0 to 1004680\n",
      "Data columns (total 3 columns):\n",
      " #   Column      Non-Null Count    Dtype         \n",
      "---  ------      --------------    -----         \n",
      " 0   Date        1004681 non-null  datetime64[ns]\n",
      " 1   Offense     1004681 non-null  object        \n",
      " 2   Moon Phase  1004681 non-null  object        \n",
      "dtypes: datetime64[ns](1), object(2)\n",
      "memory usage: 23.0+ MB\n"
     ]
    },
    {
     "data": {
      "text/html": [
       "<div>\n",
       "<style scoped>\n",
       "    .dataframe tbody tr th:only-of-type {\n",
       "        vertical-align: middle;\n",
       "    }\n",
       "\n",
       "    .dataframe tbody tr th {\n",
       "        vertical-align: top;\n",
       "    }\n",
       "\n",
       "    .dataframe thead th {\n",
       "        text-align: right;\n",
       "    }\n",
       "</style>\n",
       "<table border=\"1\" class=\"dataframe\">\n",
       "  <thead>\n",
       "    <tr style=\"text-align: right;\">\n",
       "      <th></th>\n",
       "      <th>Date</th>\n",
       "      <th>Offense</th>\n",
       "      <th>Moon Phase</th>\n",
       "    </tr>\n",
       "  </thead>\n",
       "  <tbody>\n",
       "    <tr>\n",
       "      <th>0</th>\n",
       "      <td>2020-03-01</td>\n",
       "      <td>VEHICLE - STOLEN</td>\n",
       "      <td>Other</td>\n",
       "    </tr>\n",
       "    <tr>\n",
       "      <th>1</th>\n",
       "      <td>2020-02-08</td>\n",
       "      <td>BURGLARY FROM VEHICLE</td>\n",
       "      <td>Other</td>\n",
       "    </tr>\n",
       "    <tr>\n",
       "      <th>2</th>\n",
       "      <td>2020-11-04</td>\n",
       "      <td>BIKE - STOLEN</td>\n",
       "      <td>Other</td>\n",
       "    </tr>\n",
       "    <tr>\n",
       "      <th>3</th>\n",
       "      <td>2020-03-10</td>\n",
       "      <td>SHOPLIFTING-GRAND THEFT ($950.01 &amp; OVER)</td>\n",
       "      <td>Other</td>\n",
       "    </tr>\n",
       "    <tr>\n",
       "      <th>4</th>\n",
       "      <td>2020-09-09</td>\n",
       "      <td>VEHICLE - STOLEN</td>\n",
       "      <td>Other</td>\n",
       "    </tr>\n",
       "  </tbody>\n",
       "</table>\n",
       "</div>"
      ],
      "text/plain": [
       "        Date                                   Offense Moon Phase\n",
       "0 2020-03-01                          VEHICLE - STOLEN      Other\n",
       "1 2020-02-08                     BURGLARY FROM VEHICLE      Other\n",
       "2 2020-11-04                             BIKE - STOLEN      Other\n",
       "3 2020-03-10  SHOPLIFTING-GRAND THEFT ($950.01 & OVER)      Other\n",
       "4 2020-09-09                          VEHICLE - STOLEN      Other"
      ]
     },
     "execution_count": 13,
     "metadata": {},
     "output_type": "execute_result"
    }
   ],
   "source": [
    "# Merge dataframes and fill absent moon phase values with \"Other\"\n",
    "merged_LA_df = LA_crime_df.merge(\n",
    "    moon_limited,\n",
    "    how=\"left\",\n",
    "    on=\"Date\"\n",
    ").fillna(\"Other\")\n",
    "\n",
    "#Display the first 5 rows of the merged data\n",
    "merged_LA_df.info()\n",
    "merged_LA_df.head()"
   ]
  },
  {
   "cell_type": "code",
   "execution_count": 15,
   "metadata": {},
   "outputs": [
    {
     "data": {
      "text/plain": [
       "{'Other': 90837, 'Full Moon': 29585}"
      ]
     },
     "execution_count": 15,
     "metadata": {},
     "output_type": "execute_result"
    }
   ],
   "source": [
    "# Create a dictionary of full moon and other counts for total rows (i.e. individual crimes)\n",
    "moon_phase_crimes = merged_LA_df[\"Moon Phase\"].value_counts().to_dict()\n",
    "\n",
    "# Replace specific moon phases with \"Other\"\n",
    "moon_phase_crimes[\"Other\"] = moon_phase_crimes.pop(\"New Moon\", 0) + moon_phase_crimes.pop(\"First Quarter\", 0) + moon_phase_crimes.pop(\"Last Quarter\", 0)\n",
    "moon_phase_crimes "
   ]
  },
  {
   "cell_type": "code",
   "execution_count": 16,
   "metadata": {},
   "outputs": [
    {
     "data": {
      "text/plain": [
       "1626"
      ]
     },
     "execution_count": 16,
     "metadata": {},
     "output_type": "execute_result"
    }
   ],
   "source": [
    "# Get a total count for non-full-moon dates (i.e. days with \"Other\")\n",
    "other_dates = merged_LA_df[merged_LA_df[\"Moon Phase\"] == \"Other\"]\n",
    "days_other_moon = other_dates[\"Date\"].nunique()\n",
    "days_other_moon"
   ]
  },
  {
   "cell_type": "code",
   "execution_count": 17,
   "metadata": {},
   "outputs": [
    {
     "data": {
      "text/plain": [
       "(29585, 90837)"
      ]
     },
     "execution_count": 17,
     "metadata": {},
     "output_type": "execute_result"
    }
   ],
   "source": [
    "# Get a total count for individual crimes in each condition\n",
    "days_full_moon = 124\n",
    "full_moon_crimes = moon_phase_crimes.get(\"Full Moon\")\n",
    "other_moon_crimes = moon_phase_crimes.get(\"Other\")\n",
    "full_moon_crimes, other_moon_crimes \n"
   ]
  },
  {
   "cell_type": "code",
   "execution_count": 19,
   "metadata": {},
   "outputs": [
    {
     "name": "stdout",
     "output_type": "stream",
     "text": [
      "The Los Angeles crime rate during a full moon is 238.59 against a control rate of 55.87.\n",
      "These initial findings indicate a increased crime rate of 327.08% above the base line.\n"
     ]
    }
   ],
   "source": [
    "# Do the math for crime rate and percentage increase\n",
    "full_crime_rate = full_moon_crimes / days_full_moon\n",
    "other_crime_rate = other_moon_crimes / days_other_moon\n",
    "percent_increase = (full_crime_rate / other_crime_rate - 1) * 100\n",
    "\n",
    "print(f\"The Los Angeles crime rate during a full moon is {full_crime_rate:.2f} against a control rate of {other_crime_rate:.2f}.\")\n",
    "print(f\"These initial findings indicate a increased crime rate of {percent_increase:.2f}% above the base line.\")"
   ]
  }
 ],
 "metadata": {
  "kernelspec": {
   "display_name": "dev",
   "language": "python",
   "name": "python3"
  },
  "language_info": {
   "codemirror_mode": {
    "name": "ipython",
    "version": 3
   },
   "file_extension": ".py",
   "mimetype": "text/x-python",
   "name": "python",
   "nbconvert_exporter": "python",
   "pygments_lexer": "ipython3",
   "version": "3.10.15"
  }
 },
 "nbformat": 4,
 "nbformat_minor": 2
}
