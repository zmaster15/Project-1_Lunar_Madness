{
 "cells": [
  {
   "cell_type": "code",
   "execution_count": null,
   "metadata": {},
   "outputs": [],
   "source": [
    "# # File created for initial data cleaning and exploration"
   ]
  },
  {
   "cell_type": "code",
   "execution_count": 1,
   "metadata": {},
   "outputs": [],
   "source": [
    "import pandas as pd\n",
    "from prophet import Prophet\n",
    "from astral import moon\n",
    "import datetime as dt\n",
    "import matplotlib.pyplot as plt\n",
    "from datetime import timedelta\n",
    "%matplotlib inline"
   ]
  },
  {
   "cell_type": "code",
   "execution_count": 28,
   "metadata": {},
   "outputs": [
    {
     "name": "stderr",
     "output_type": "stream",
     "text": [
      "C:\\Users\\Sheila\\AppData\\Local\\Temp\\ipykernel_13180\\2344452984.py:6: DtypeWarning: Columns (2,10) have mixed types. Specify dtype option on import or set low_memory=False.\n",
      "  houston_df= pd.read_csv(houston_data_file)\n"
     ]
    }
   ],
   "source": [
    "# Import Houston crime data and moon files\n",
    "houston_data_file = 'Houston_Crime_Data_Source_File.csv'\n",
    "moon_data_file = 'moon_data_export.csv'\n",
    "\n",
    "# Read the data into a pandas dataframe\n",
    "houston_df= pd.read_csv(houston_data_file)\n",
    "moon_df = pd.read_csv(moon_data_file)"
   ]
  },
  {
   "cell_type": "code",
   "execution_count": 31,
   "metadata": {},
   "outputs": [
    {
     "data": {
      "text/html": [
       "<div>\n",
       "<style scoped>\n",
       "    .dataframe tbody tr th:only-of-type {\n",
       "        vertical-align: middle;\n",
       "    }\n",
       "\n",
       "    .dataframe tbody tr th {\n",
       "        vertical-align: top;\n",
       "    }\n",
       "\n",
       "    .dataframe thead th {\n",
       "        text-align: right;\n",
       "    }\n",
       "</style>\n",
       "<table border=\"1\" class=\"dataframe\">\n",
       "  <thead>\n",
       "    <tr style=\"text-align: right;\">\n",
       "      <th></th>\n",
       "      <th>Moon Phase</th>\n",
       "      <th>Date</th>\n",
       "      <th>Time (Universal Time)</th>\n",
       "    </tr>\n",
       "  </thead>\n",
       "  <tbody>\n",
       "    <tr>\n",
       "      <th>0</th>\n",
       "      <td>Last Quarter</td>\n",
       "      <td>2023-01-15</td>\n",
       "      <td>02:10</td>\n",
       "    </tr>\n",
       "    <tr>\n",
       "      <th>1</th>\n",
       "      <td>New Moon</td>\n",
       "      <td>2023-01-21</td>\n",
       "      <td>20:53</td>\n",
       "    </tr>\n",
       "    <tr>\n",
       "      <th>2</th>\n",
       "      <td>First Quarter</td>\n",
       "      <td>2023-01-28</td>\n",
       "      <td>15:19</td>\n",
       "    </tr>\n",
       "    <tr>\n",
       "      <th>3</th>\n",
       "      <td>Full Moon</td>\n",
       "      <td>2023-02-05</td>\n",
       "      <td>18:28</td>\n",
       "    </tr>\n",
       "    <tr>\n",
       "      <th>4</th>\n",
       "      <td>Last Quarter</td>\n",
       "      <td>2023-02-13</td>\n",
       "      <td>16:01</td>\n",
       "    </tr>\n",
       "  </tbody>\n",
       "</table>\n",
       "</div>"
      ],
      "text/plain": [
       "      Moon Phase        Date Time (Universal Time)\n",
       "0   Last Quarter  2023-01-15                 02:10\n",
       "1       New Moon  2023-01-21                 20:53\n",
       "2  First Quarter  2023-01-28                 15:19\n",
       "3      Full Moon  2023-02-05                 18:28\n",
       "4   Last Quarter  2023-02-13                 16:01"
      ]
     },
     "execution_count": 31,
     "metadata": {},
     "output_type": "execute_result"
    }
   ],
   "source": [
    "moon_df.head()"
   ]
  },
  {
   "cell_type": "code",
   "execution_count": 39,
   "metadata": {},
   "outputs": [
    {
     "name": "stderr",
     "output_type": "stream",
     "text": [
      "C:\\Users\\Sheila\\AppData\\Local\\Temp\\ipykernel_13180\\4232584438.py:3: SettingWithCopyWarning: \n",
      "A value is trying to be set on a copy of a slice from a DataFrame.\n",
      "Try using .loc[row_indexer,col_indexer] = value instead\n",
      "\n",
      "See the caveats in the documentation: https://pandas.pydata.org/pandas-docs/stable/user_guide/indexing.html#returning-a-view-versus-a-copy\n",
      "  renamed_moon_df['Date'] = pd.to_datetime(renamed_moon_df['Date'], errors='coerce')\n"
     ]
    },
    {
     "data": {
      "text/html": [
       "<div>\n",
       "<style scoped>\n",
       "    .dataframe tbody tr th:only-of-type {\n",
       "        vertical-align: middle;\n",
       "    }\n",
       "\n",
       "    .dataframe tbody tr th {\n",
       "        vertical-align: top;\n",
       "    }\n",
       "\n",
       "    .dataframe thead th {\n",
       "        text-align: right;\n",
       "    }\n",
       "</style>\n",
       "<table border=\"1\" class=\"dataframe\">\n",
       "  <thead>\n",
       "    <tr style=\"text-align: right;\">\n",
       "      <th></th>\n",
       "      <th>Date</th>\n",
       "      <th>Moon Phase</th>\n",
       "    </tr>\n",
       "  </thead>\n",
       "  <tbody>\n",
       "    <tr>\n",
       "      <th>0</th>\n",
       "      <td>2023-01-15</td>\n",
       "      <td>Last Quarter</td>\n",
       "    </tr>\n",
       "    <tr>\n",
       "      <th>1</th>\n",
       "      <td>2023-01-21</td>\n",
       "      <td>New Moon</td>\n",
       "    </tr>\n",
       "    <tr>\n",
       "      <th>2</th>\n",
       "      <td>2023-01-28</td>\n",
       "      <td>First Quarter</td>\n",
       "    </tr>\n",
       "    <tr>\n",
       "      <th>3</th>\n",
       "      <td>2023-02-05</td>\n",
       "      <td>Full Moon</td>\n",
       "    </tr>\n",
       "    <tr>\n",
       "      <th>4</th>\n",
       "      <td>2023-02-13</td>\n",
       "      <td>Last Quarter</td>\n",
       "    </tr>\n",
       "  </tbody>\n",
       "</table>\n",
       "</div>"
      ],
      "text/plain": [
       "        Date     Moon Phase\n",
       "0 2023-01-15   Last Quarter\n",
       "1 2023-01-21       New Moon\n",
       "2 2023-01-28  First Quarter\n",
       "3 2023-02-05      Full Moon\n",
       "4 2023-02-13   Last Quarter"
      ]
     },
     "execution_count": 39,
     "metadata": {},
     "output_type": "execute_result"
    }
   ],
   "source": [
    "renamed_moon_df = moon_df[['Date', 'Moon Phase']]\n",
    "\n",
    "renamed_moon_df['Date'] = pd.to_datetime(renamed_moon_df['Date'], errors='coerce')\n",
    "renamed_moon_df.head()"
   ]
  },
  {
   "cell_type": "code",
   "execution_count": 40,
   "metadata": {},
   "outputs": [
    {
     "name": "stdout",
     "output_type": "stream",
     "text": [
      "<class 'pandas.core.frame.DataFrame'>\n",
      "RangeIndex: 1185474 entries, 0 to 1185473\n",
      "Data columns (total 12 columns):\n",
      " #   Column             Non-Null Count    Dtype \n",
      "---  ------             --------------    ----- \n",
      " 0   Unnamed: 0         1185474 non-null  int64 \n",
      " 1   Date               1185474 non-null  object\n",
      " 2   Hour               1185474 non-null  object\n",
      " 3   Offense Type       1185474 non-null  object\n",
      " 4   Beat               1185458 non-null  object\n",
      " 5   Premise            1169553 non-null  object\n",
      " 6   BlockRange         1185474 non-null  object\n",
      " 7   StreetName         1184583 non-null  object\n",
      " 8   Type               1185474 non-null  object\n",
      " 9   Suffix             1173737 non-null  object\n",
      " 10  # offenses         1042377 non-null  object\n",
      " 11  CleanedStreetName  1173220 non-null  object\n",
      "dtypes: int64(1), object(11)\n",
      "memory usage: 108.5+ MB\n"
     ]
    }
   ],
   "source": [
    "houston_df.info()"
   ]
  },
  {
   "cell_type": "code",
   "execution_count": 50,
   "metadata": {},
   "outputs": [
    {
     "name": "stderr",
     "output_type": "stream",
     "text": [
      "C:\\Users\\Sheila\\AppData\\Local\\Temp\\ipykernel_13180\\2498261585.py:3: SettingWithCopyWarning: \n",
      "A value is trying to be set on a copy of a slice from a DataFrame\n",
      "\n",
      "See the caveats in the documentation: https://pandas.pydata.org/pandas-docs/stable/user_guide/indexing.html#returning-a-view-versus-a-copy\n",
      "  cleaned_houston_crime_data_df.rename(columns={'Offense' : 'Offense Type'}, inplace=True)\n",
      "C:\\Users\\Sheila\\AppData\\Local\\Temp\\ipykernel_13180\\2498261585.py:6: SettingWithCopyWarning: \n",
      "A value is trying to be set on a copy of a slice from a DataFrame\n",
      "\n",
      "See the caveats in the documentation: https://pandas.pydata.org/pandas-docs/stable/user_guide/indexing.html#returning-a-view-versus-a-copy\n",
      "  cleaned_houston_crime_data_df.fillna('missing', inplace=True)\n",
      "C:\\Users\\Sheila\\AppData\\Local\\Temp\\ipykernel_13180\\2498261585.py:9: SettingWithCopyWarning: \n",
      "A value is trying to be set on a copy of a slice from a DataFrame.\n",
      "Try using .loc[row_indexer,col_indexer] = value instead\n",
      "\n",
      "See the caveats in the documentation: https://pandas.pydata.org/pandas-docs/stable/user_guide/indexing.html#returning-a-view-versus-a-copy\n",
      "  cleaned_houston_crime_data_df['Date'] = pd.to_datetime(pd.to_datetime(cleaned_houston_crime_data_df['Date'], errors='coerce'))\n"
     ]
    },
    {
     "data": {
      "text/html": [
       "<div>\n",
       "<style scoped>\n",
       "    .dataframe tbody tr th:only-of-type {\n",
       "        vertical-align: middle;\n",
       "    }\n",
       "\n",
       "    .dataframe tbody tr th {\n",
       "        vertical-align: top;\n",
       "    }\n",
       "\n",
       "    .dataframe thead th {\n",
       "        text-align: right;\n",
       "    }\n",
       "</style>\n",
       "<table border=\"1\" class=\"dataframe\">\n",
       "  <thead>\n",
       "    <tr style=\"text-align: right;\">\n",
       "      <th></th>\n",
       "      <th>Date</th>\n",
       "      <th>Offense Type</th>\n",
       "    </tr>\n",
       "  </thead>\n",
       "  <tbody>\n",
       "    <tr>\n",
       "      <th>0</th>\n",
       "      <td>2016-02-13</td>\n",
       "      <td>Aggravated Assault</td>\n",
       "    </tr>\n",
       "    <tr>\n",
       "      <th>1</th>\n",
       "      <td>2016-02-16</td>\n",
       "      <td>Theft</td>\n",
       "    </tr>\n",
       "    <tr>\n",
       "      <th>2</th>\n",
       "      <td>2016-02-19</td>\n",
       "      <td>Aggravated Assault</td>\n",
       "    </tr>\n",
       "    <tr>\n",
       "      <th>3</th>\n",
       "      <td>2016-02-19</td>\n",
       "      <td>Theft</td>\n",
       "    </tr>\n",
       "    <tr>\n",
       "      <th>4</th>\n",
       "      <td>2016-02-20</td>\n",
       "      <td>Burglary</td>\n",
       "    </tr>\n",
       "  </tbody>\n",
       "</table>\n",
       "</div>"
      ],
      "text/plain": [
       "        Date        Offense Type\n",
       "0 2016-02-13  Aggravated Assault\n",
       "1 2016-02-16               Theft\n",
       "2 2016-02-19  Aggravated Assault\n",
       "3 2016-02-19               Theft\n",
       "4 2016-02-20            Burglary"
      ]
     },
     "execution_count": 50,
     "metadata": {},
     "output_type": "execute_result"
    }
   ],
   "source": [
    "# Reduce the DataFrame to necessary columns\n",
    "cleaned_houston_crime_data_df = houston_df[['Date', 'Offense Type']]\n",
    "cleaned_houston_crime_data_df.rename(columns={'Offense' : 'Offense Type'}, inplace=True) \n",
    "\n",
    "# Fill empty Incident Address fields with 'missing'\n",
    "cleaned_houston_crime_data_df.fillna('missing', inplace=True)\n",
    "\n",
    "# Change Occurance Date to datetime format\n",
    "cleaned_houston_crime_data_df['Date'] = pd.to_datetime(pd.to_datetime(cleaned_houston_crime_data_df['Date'], errors='coerce'))\n",
    "\n",
    "# Display DataFrame info and first 5 rows\n",
    "cleaned_houston_crime_data_df.head()\n"
   ]
  },
  {
   "cell_type": "code",
   "execution_count": 46,
   "metadata": {},
   "outputs": [
    {
     "name": "stdout",
     "output_type": "stream",
     "text": [
      "<class 'pandas.core.frame.DataFrame'>\n",
      "RangeIndex: 1185474 entries, 0 to 1185473\n",
      "Data columns (total 2 columns):\n",
      " #   Column        Non-Null Count    Dtype         \n",
      "---  ------        --------------    -----         \n",
      " 0   Date          1185474 non-null  datetime64[ns]\n",
      " 1   Offense Type  1185474 non-null  object        \n",
      "dtypes: datetime64[ns](1), object(1)\n",
      "memory usage: 18.1+ MB\n"
     ]
    }
   ],
   "source": [
    "cleaned_houston_crime_data_df.info()"
   ]
  },
  {
   "cell_type": "code",
   "execution_count": 49,
   "metadata": {},
   "outputs": [
    {
     "ename": "KeyError",
     "evalue": "\"None of [Index(['Aggravated Assault', 'Theft', 'Burglary', 'Auto Theft', 'Robbery',\\n       'Rape', 'Murder', '1', 'Burglary                 ',\\n       'Robbery                  ', 'Theft                    ',\\n       'AutoTheft                ', 'Aggravated Assault       ',\\n       'Rape                     ', 'Murder                   ',\\n       'False pretenses, swindle', 'From coin-operated machine or device',\\n       'Intimidation', 'All other offenses', 'Simple assault',\\n       'Drug, narcotic violations', 'Driving under the influence',\\n       'Trespass of real property', 'Weapon law violations',\\n       'Destruction, damage, vandalism', 'Stolen property offenses',\\n       'Shoplifting', 'Theft of motor vehicle parts or accessory',\\n       'Theft from motor vehicle', 'Identify theft', 'Credit card, ATM fraud',\\n       'All other larceny', 'Impersonation', 'Burglary, Breaking and Entering',\\n       'Murder, non-negligent', 'Theft from building', 'Motor vehicle theft',\\n       'Counterfeiting, forgery', 'Pocket-picking',\\n       'Hacking/Computer Invasion', 'Embezzlement', 'Forcible rape',\\n       'Bad checks', 'Forcible fondling', 'Animal Cruelty',\\n       'Kidnapping, abduction', 'Welfare fraud', 'Purse-snatching',\\n       'Statutory rape', 'Forcible sodomy', 'Family offenses, no violence',\\n       'Drug equipment violations', 'Peeping tom', 'Drunkenness',\\n       'Disorderly conduct', 'Assisting or promoting prostitution',\\n       'Prostitution', 'Human Trafficking/Commercial Sex Act', 'Wire fraud',\\n       'Pornographs, obscene material',\\n       'Curfew, loitering, vagrancy violations', 'Extortion, Blackmail',\\n       'Purchasing prostitution', 'Runaway', 'Liquor law violations', 'Arson',\\n       'Promoting gambling', 'Bribery', 'Gambling equipment violations',\\n       'Negligent manslaughter', 'Sexual assault with an object', 'AutoTheft',\\n       'Human Trafficking/Involuntary Servitude', 'Betting/wagering'],\\n      dtype='object')] are in the [columns]\"",
     "output_type": "error",
     "traceback": [
      "\u001b[1;31m---------------------------------------------------------------------------\u001b[0m",
      "\u001b[1;31mKeyError\u001b[0m                                  Traceback (most recent call last)",
      "Cell \u001b[1;32mIn[49], line 1\u001b[0m\n\u001b[1;32m----> 1\u001b[0m offense_categories_df \u001b[38;5;241m=\u001b[39m \u001b[43mcleaned_houston_crime_data_df\u001b[49m\u001b[43m[\u001b[49m\u001b[43mcleaned_houston_crime_data_df\u001b[49m\u001b[43m[\u001b[49m\u001b[38;5;124;43m'\u001b[39;49m\u001b[38;5;124;43mOffense Type\u001b[39;49m\u001b[38;5;124;43m'\u001b[39;49m\u001b[43m]\u001b[49m\u001b[38;5;241;43m.\u001b[39;49m\u001b[43munique\u001b[49m\u001b[43m(\u001b[49m\u001b[43m)\u001b[49m\u001b[43m]\u001b[49m\n\u001b[0;32m      2\u001b[0m offense_categories_df\n",
      "File \u001b[1;32mc:\\Users\\Sheila\\anaconda3\\envs\\dev\\lib\\site-packages\\pandas\\core\\frame.py:4108\u001b[0m, in \u001b[0;36mDataFrame.__getitem__\u001b[1;34m(self, key)\u001b[0m\n\u001b[0;32m   4106\u001b[0m     \u001b[38;5;28;01mif\u001b[39;00m is_iterator(key):\n\u001b[0;32m   4107\u001b[0m         key \u001b[38;5;241m=\u001b[39m \u001b[38;5;28mlist\u001b[39m(key)\n\u001b[1;32m-> 4108\u001b[0m     indexer \u001b[38;5;241m=\u001b[39m \u001b[38;5;28;43mself\u001b[39;49m\u001b[38;5;241;43m.\u001b[39;49m\u001b[43mcolumns\u001b[49m\u001b[38;5;241;43m.\u001b[39;49m\u001b[43m_get_indexer_strict\u001b[49m\u001b[43m(\u001b[49m\u001b[43mkey\u001b[49m\u001b[43m,\u001b[49m\u001b[43m \u001b[49m\u001b[38;5;124;43m\"\u001b[39;49m\u001b[38;5;124;43mcolumns\u001b[39;49m\u001b[38;5;124;43m\"\u001b[39;49m\u001b[43m)\u001b[49m[\u001b[38;5;241m1\u001b[39m]\n\u001b[0;32m   4110\u001b[0m \u001b[38;5;66;03m# take() does not accept boolean indexers\u001b[39;00m\n\u001b[0;32m   4111\u001b[0m \u001b[38;5;28;01mif\u001b[39;00m \u001b[38;5;28mgetattr\u001b[39m(indexer, \u001b[38;5;124m\"\u001b[39m\u001b[38;5;124mdtype\u001b[39m\u001b[38;5;124m\"\u001b[39m, \u001b[38;5;28;01mNone\u001b[39;00m) \u001b[38;5;241m==\u001b[39m \u001b[38;5;28mbool\u001b[39m:\n",
      "File \u001b[1;32mc:\\Users\\Sheila\\anaconda3\\envs\\dev\\lib\\site-packages\\pandas\\core\\indexes\\base.py:6200\u001b[0m, in \u001b[0;36mIndex._get_indexer_strict\u001b[1;34m(self, key, axis_name)\u001b[0m\n\u001b[0;32m   6197\u001b[0m \u001b[38;5;28;01melse\u001b[39;00m:\n\u001b[0;32m   6198\u001b[0m     keyarr, indexer, new_indexer \u001b[38;5;241m=\u001b[39m \u001b[38;5;28mself\u001b[39m\u001b[38;5;241m.\u001b[39m_reindex_non_unique(keyarr)\n\u001b[1;32m-> 6200\u001b[0m \u001b[38;5;28;43mself\u001b[39;49m\u001b[38;5;241;43m.\u001b[39;49m\u001b[43m_raise_if_missing\u001b[49m\u001b[43m(\u001b[49m\u001b[43mkeyarr\u001b[49m\u001b[43m,\u001b[49m\u001b[43m \u001b[49m\u001b[43mindexer\u001b[49m\u001b[43m,\u001b[49m\u001b[43m \u001b[49m\u001b[43maxis_name\u001b[49m\u001b[43m)\u001b[49m\n\u001b[0;32m   6202\u001b[0m keyarr \u001b[38;5;241m=\u001b[39m \u001b[38;5;28mself\u001b[39m\u001b[38;5;241m.\u001b[39mtake(indexer)\n\u001b[0;32m   6203\u001b[0m \u001b[38;5;28;01mif\u001b[39;00m \u001b[38;5;28misinstance\u001b[39m(key, Index):\n\u001b[0;32m   6204\u001b[0m     \u001b[38;5;66;03m# GH 42790 - Preserve name from an Index\u001b[39;00m\n",
      "File \u001b[1;32mc:\\Users\\Sheila\\anaconda3\\envs\\dev\\lib\\site-packages\\pandas\\core\\indexes\\base.py:6249\u001b[0m, in \u001b[0;36mIndex._raise_if_missing\u001b[1;34m(self, key, indexer, axis_name)\u001b[0m\n\u001b[0;32m   6247\u001b[0m \u001b[38;5;28;01mif\u001b[39;00m nmissing:\n\u001b[0;32m   6248\u001b[0m     \u001b[38;5;28;01mif\u001b[39;00m nmissing \u001b[38;5;241m==\u001b[39m \u001b[38;5;28mlen\u001b[39m(indexer):\n\u001b[1;32m-> 6249\u001b[0m         \u001b[38;5;28;01mraise\u001b[39;00m \u001b[38;5;167;01mKeyError\u001b[39;00m(\u001b[38;5;124mf\u001b[39m\u001b[38;5;124m\"\u001b[39m\u001b[38;5;124mNone of [\u001b[39m\u001b[38;5;132;01m{\u001b[39;00mkey\u001b[38;5;132;01m}\u001b[39;00m\u001b[38;5;124m] are in the [\u001b[39m\u001b[38;5;132;01m{\u001b[39;00maxis_name\u001b[38;5;132;01m}\u001b[39;00m\u001b[38;5;124m]\u001b[39m\u001b[38;5;124m\"\u001b[39m)\n\u001b[0;32m   6251\u001b[0m     not_found \u001b[38;5;241m=\u001b[39m \u001b[38;5;28mlist\u001b[39m(ensure_index(key)[missing_mask\u001b[38;5;241m.\u001b[39mnonzero()[\u001b[38;5;241m0\u001b[39m]]\u001b[38;5;241m.\u001b[39munique())\n\u001b[0;32m   6252\u001b[0m     \u001b[38;5;28;01mraise\u001b[39;00m \u001b[38;5;167;01mKeyError\u001b[39;00m(\u001b[38;5;124mf\u001b[39m\u001b[38;5;124m\"\u001b[39m\u001b[38;5;132;01m{\u001b[39;00mnot_found\u001b[38;5;132;01m}\u001b[39;00m\u001b[38;5;124m not in index\u001b[39m\u001b[38;5;124m\"\u001b[39m)\n",
      "\u001b[1;31mKeyError\u001b[0m: \"None of [Index(['Aggravated Assault', 'Theft', 'Burglary', 'Auto Theft', 'Robbery',\\n       'Rape', 'Murder', '1', 'Burglary                 ',\\n       'Robbery                  ', 'Theft                    ',\\n       'AutoTheft                ', 'Aggravated Assault       ',\\n       'Rape                     ', 'Murder                   ',\\n       'False pretenses, swindle', 'From coin-operated machine or device',\\n       'Intimidation', 'All other offenses', 'Simple assault',\\n       'Drug, narcotic violations', 'Driving under the influence',\\n       'Trespass of real property', 'Weapon law violations',\\n       'Destruction, damage, vandalism', 'Stolen property offenses',\\n       'Shoplifting', 'Theft of motor vehicle parts or accessory',\\n       'Theft from motor vehicle', 'Identify theft', 'Credit card, ATM fraud',\\n       'All other larceny', 'Impersonation', 'Burglary, Breaking and Entering',\\n       'Murder, non-negligent', 'Theft from building', 'Motor vehicle theft',\\n       'Counterfeiting, forgery', 'Pocket-picking',\\n       'Hacking/Computer Invasion', 'Embezzlement', 'Forcible rape',\\n       'Bad checks', 'Forcible fondling', 'Animal Cruelty',\\n       'Kidnapping, abduction', 'Welfare fraud', 'Purse-snatching',\\n       'Statutory rape', 'Forcible sodomy', 'Family offenses, no violence',\\n       'Drug equipment violations', 'Peeping tom', 'Drunkenness',\\n       'Disorderly conduct', 'Assisting or promoting prostitution',\\n       'Prostitution', 'Human Trafficking/Commercial Sex Act', 'Wire fraud',\\n       'Pornographs, obscene material',\\n       'Curfew, loitering, vagrancy violations', 'Extortion, Blackmail',\\n       'Purchasing prostitution', 'Runaway', 'Liquor law violations', 'Arson',\\n       'Promoting gambling', 'Bribery', 'Gambling equipment violations',\\n       'Negligent manslaughter', 'Sexual assault with an object', 'AutoTheft',\\n       'Human Trafficking/Involuntary Servitude', 'Betting/wagering'],\\n      dtype='object')] are in the [columns]\""
     ]
    }
   ],
   "source": [
    "offense_categories_df = cleaned_houston_crime_data_df[cleaned_houston_crime_data_df['Offense Type'].unique()]\n",
    "offense_categories_df"
   ]
  },
  {
   "cell_type": "code",
   "execution_count": 11,
   "metadata": {},
   "outputs": [
    {
     "data": {
      "text/html": [
       "<div>\n",
       "<style scoped>\n",
       "    .dataframe tbody tr th:only-of-type {\n",
       "        vertical-align: middle;\n",
       "    }\n",
       "\n",
       "    .dataframe tbody tr th {\n",
       "        vertical-align: top;\n",
       "    }\n",
       "\n",
       "    .dataframe thead th {\n",
       "        text-align: right;\n",
       "    }\n",
       "</style>\n",
       "<table border=\"1\" class=\"dataframe\">\n",
       "  <thead>\n",
       "    <tr style=\"text-align: right;\">\n",
       "      <th></th>\n",
       "      <th>Date</th>\n",
       "      <th>Offense</th>\n",
       "    </tr>\n",
       "  </thead>\n",
       "  <tbody>\n",
       "    <tr>\n",
       "      <th>0</th>\n",
       "      <td>2010-01-01</td>\n",
       "      <td>Burglary</td>\n",
       "    </tr>\n",
       "    <tr>\n",
       "      <th>1</th>\n",
       "      <td>2010-01-01</td>\n",
       "      <td>Theft</td>\n",
       "    </tr>\n",
       "    <tr>\n",
       "      <th>2</th>\n",
       "      <td>2010-01-01</td>\n",
       "      <td>Theft</td>\n",
       "    </tr>\n",
       "    <tr>\n",
       "      <th>3</th>\n",
       "      <td>2010-01-01</td>\n",
       "      <td>Rape</td>\n",
       "    </tr>\n",
       "    <tr>\n",
       "      <th>4</th>\n",
       "      <td>2010-01-01</td>\n",
       "      <td>Theft</td>\n",
       "    </tr>\n",
       "    <tr>\n",
       "      <th>...</th>\n",
       "      <td>...</td>\n",
       "      <td>...</td>\n",
       "    </tr>\n",
       "    <tr>\n",
       "      <th>1185468</th>\n",
       "      <td>2018-12-31</td>\n",
       "      <td>All other larceny</td>\n",
       "    </tr>\n",
       "    <tr>\n",
       "      <th>1185469</th>\n",
       "      <td>2018-12-31</td>\n",
       "      <td>Burglary, Breaking and Entering</td>\n",
       "    </tr>\n",
       "    <tr>\n",
       "      <th>1185470</th>\n",
       "      <td>2018-12-31</td>\n",
       "      <td>Destruction, damage, vandalism</td>\n",
       "    </tr>\n",
       "    <tr>\n",
       "      <th>1185471</th>\n",
       "      <td>2018-12-31</td>\n",
       "      <td>Simple assault</td>\n",
       "    </tr>\n",
       "    <tr>\n",
       "      <th>1185472</th>\n",
       "      <td>2018-12-31</td>\n",
       "      <td>All other larceny</td>\n",
       "    </tr>\n",
       "  </tbody>\n",
       "</table>\n",
       "<p>1185473 rows × 2 columns</p>\n",
       "</div>"
      ],
      "text/plain": [
       "               Date                          Offense\n",
       "0        2010-01-01                         Burglary\n",
       "1        2010-01-01                            Theft\n",
       "2        2010-01-01                            Theft\n",
       "3        2010-01-01                             Rape\n",
       "4        2010-01-01                            Theft\n",
       "...             ...                              ...\n",
       "1185468  2018-12-31                All other larceny\n",
       "1185469  2018-12-31  Burglary, Breaking and Entering\n",
       "1185470  2018-12-31   Destruction, damage, vandalism\n",
       "1185471  2018-12-31                   Simple assault\n",
       "1185472  2018-12-31                All other larceny\n",
       "\n",
       "[1185473 rows x 2 columns]"
      ]
     },
     "execution_count": 11,
     "metadata": {},
     "output_type": "execute_result"
    }
   ],
   "source": [
    "# Sort the data by Occurrance Date\n",
    "sorted_crime_data_df = cleaned_houston_crime_data_df.sort_values(by='Date', ascending=True)\n",
    "\n",
    "# Reset Index\n",
    "sorted_crime_data_df = sorted_crime_data_df.reset_index(drop=True)\n",
    "sorted_crime_data_df.head(-1)"
   ]
  },
  {
   "cell_type": "code",
   "execution_count": null,
   "metadata": {},
   "outputs": [],
   "source": [
    "# Create a window for \"near full moon\" (e.g., ±1 day)\n",
    "full_moon_periods = pd.concat([\n",
    "    full_moon_df['Date'] - timedelta(days=1),\n",
    "    full_moon_df['Date'],\n",
    "    full_moon_df['Date'] + timedelta(days=1)\n",
    "]).drop_duplicates().reset_index(drop=True)\n",
    "\n",
    "# Create a window for \"near full moon\" (e.g., ±1 day)\n",
    "quarter_moon_periods = pd.concat([\n",
    "    full_moon_df['Date'] - timedelta(days=1),\n",
    "    full_moon_df['Date'],\n",
    "    full_moon_df['Date'] + timedelta(days=1)\n",
    "]).drop_duplicates().reset_index(drop=True)\n",
    "\n",
    "# Create a window for \"near full moon\" (e.g., ±1 day)\n",
    "full_moon_periods = pd.concat([\n",
    "    full_moon_df['Date'] - timedelta(days=1),\n",
    "    full_moon_df['Date'],\n",
    "    full_moon_df['Date'] + timedelta(days=1)\n",
    "]).drop_duplicates().reset_index(drop=True)"
   ]
  },
  {
   "cell_type": "code",
   "execution_count": 12,
   "metadata": {},
   "outputs": [
    {
     "name": "stdout",
     "output_type": "stream",
     "text": [
      "           Total Incidents   Crimes  Crime Rate (%)\n",
      "Full Moon                                          \n",
      "False              1117089  1117089           100.0\n",
      "True                 68385    68385           100.0\n"
     ]
    }
   ],
   "source": [
    "# Convert date columns to datetime format\n",
    "sorted_crime_data_df['Date'] = pd.to_datetime(sorted_crime_data_df['Date'], errors='coerce')\n",
    "moon_df['Date'] = pd.to_datetime(moon_df['Date'], errors='coerce')\n",
    "\n",
    "# Filter moon data for full moon events\n",
    "full_moon_df = moon_df[moon_df['Moon Phase'] == 'Full Moon']\n",
    "\n",
    "# Create a window for \"near full moon\" (e.g., ±1 day)\n",
    "full_moon_periods = pd.concat([\n",
    "    full_moon_df['Date'] - timedelta(days=1),\n",
    "    full_moon_df['Date'],\n",
    "    full_moon_df['Date'] + timedelta(days=1)\n",
    "]).drop_duplicates().reset_index(drop=True)\n",
    "\n",
    "# Add a column to indicate if the date is within the full moon periods\n",
    "sorted_crime_data_df['Full Moon'] = sorted_crime_data_df['Date'].isin(full_moon_periods)\n",
    "\n",
    "# Group data by full moon indicator and calculate summary statistics\n",
    "houston_crime_sorted = sorted_crime_data_df.groupby('Full Moon')['Offense'].agg(['count', 'size'])\n",
    "houston_crime_sorted.rename(columns={'count': 'Total Incidents', 'size': 'Crimes'}, inplace=True)\n",
    "\n",
    "# Convert 'Crimes' column to numeric\n",
    "houston_crime_sorted['Crimes'] = houston_crime_sorted['Crimes'].astype(int)\n",
    "\n",
    "# Add a column for Crime Rate (%)\n",
    "houston_crime_sorted['Crime Rate (%)'] = (houston_crime_sorted['Crimes'] / houston_crime_sorted['Total Incidents']) * 100\n",
    "\n",
    "# Display the adjusted crime summary\n",
    "print(houston_crime_sorted)\n"
   ]
  },
  {
   "cell_type": "code",
   "execution_count": 13,
   "metadata": {},
   "outputs": [
    {
     "ename": "KeyError",
     "evalue": "'Moon Phase'",
     "output_type": "error",
     "traceback": [
      "\u001b[1;31m---------------------------------------------------------------------------\u001b[0m",
      "\u001b[1;31mKeyError\u001b[0m                                  Traceback (most recent call last)",
      "File \u001b[1;32mc:\\Users\\Sheila\\anaconda3\\envs\\dev\\lib\\site-packages\\pandas\\core\\indexes\\base.py:3805\u001b[0m, in \u001b[0;36mIndex.get_loc\u001b[1;34m(self, key)\u001b[0m\n\u001b[0;32m   3804\u001b[0m \u001b[38;5;28;01mtry\u001b[39;00m:\n\u001b[1;32m-> 3805\u001b[0m     \u001b[38;5;28;01mreturn\u001b[39;00m \u001b[38;5;28;43mself\u001b[39;49m\u001b[38;5;241;43m.\u001b[39;49m\u001b[43m_engine\u001b[49m\u001b[38;5;241;43m.\u001b[39;49m\u001b[43mget_loc\u001b[49m\u001b[43m(\u001b[49m\u001b[43mcasted_key\u001b[49m\u001b[43m)\u001b[49m\n\u001b[0;32m   3806\u001b[0m \u001b[38;5;28;01mexcept\u001b[39;00m \u001b[38;5;167;01mKeyError\u001b[39;00m \u001b[38;5;28;01mas\u001b[39;00m err:\n",
      "File \u001b[1;32mindex.pyx:167\u001b[0m, in \u001b[0;36mpandas._libs.index.IndexEngine.get_loc\u001b[1;34m()\u001b[0m\n",
      "File \u001b[1;32mindex.pyx:196\u001b[0m, in \u001b[0;36mpandas._libs.index.IndexEngine.get_loc\u001b[1;34m()\u001b[0m\n",
      "File \u001b[1;32mpandas\\\\_libs\\\\hashtable_class_helper.pxi:7081\u001b[0m, in \u001b[0;36mpandas._libs.hashtable.PyObjectHashTable.get_item\u001b[1;34m()\u001b[0m\n",
      "File \u001b[1;32mpandas\\\\_libs\\\\hashtable_class_helper.pxi:7089\u001b[0m, in \u001b[0;36mpandas._libs.hashtable.PyObjectHashTable.get_item\u001b[1;34m()\u001b[0m\n",
      "\u001b[1;31mKeyError\u001b[0m: 'Moon Phase'",
      "\nThe above exception was the direct cause of the following exception:\n",
      "\u001b[1;31mKeyError\u001b[0m                                  Traceback (most recent call last)",
      "Cell \u001b[1;32mIn[13], line 2\u001b[0m\n\u001b[0;32m      1\u001b[0m \u001b[38;5;66;03m# Create a dictionary of full moon and other counts for total rows (i.e. individual crimes)\u001b[39;00m\n\u001b[1;32m----> 2\u001b[0m moon_phase_crimes \u001b[38;5;241m=\u001b[39m \u001b[43mhouston_crime_sorted\u001b[49m\u001b[43m[\u001b[49m\u001b[38;5;124;43m\"\u001b[39;49m\u001b[38;5;124;43mMoon Phase\u001b[39;49m\u001b[38;5;124;43m\"\u001b[39;49m\u001b[43m]\u001b[49m\u001b[38;5;241m.\u001b[39mvalue_counts()\u001b[38;5;241m.\u001b[39mto_dict()\n\u001b[0;32m      4\u001b[0m \u001b[38;5;66;03m# Replace specific moon phases with \"Other\"\u001b[39;00m\n\u001b[0;32m      5\u001b[0m moon_phase_crimes[\u001b[38;5;124m\"\u001b[39m\u001b[38;5;124mOther\u001b[39m\u001b[38;5;124m\"\u001b[39m] \u001b[38;5;241m=\u001b[39m moon_phase_crimes\u001b[38;5;241m.\u001b[39mpop(\u001b[38;5;124m\"\u001b[39m\u001b[38;5;124mNew Moon\u001b[39m\u001b[38;5;124m\"\u001b[39m, \u001b[38;5;241m0\u001b[39m) \u001b[38;5;241m+\u001b[39m moon_phase_crimes\u001b[38;5;241m.\u001b[39mpop(\u001b[38;5;124m\"\u001b[39m\u001b[38;5;124mFirst Quarter\u001b[39m\u001b[38;5;124m\"\u001b[39m, \u001b[38;5;241m0\u001b[39m) \u001b[38;5;241m+\u001b[39m moon_phase_crimes\u001b[38;5;241m.\u001b[39mpop(\u001b[38;5;124m\"\u001b[39m\u001b[38;5;124mLast Quarter\u001b[39m\u001b[38;5;124m\"\u001b[39m, \u001b[38;5;241m0\u001b[39m)\n",
      "File \u001b[1;32mc:\\Users\\Sheila\\anaconda3\\envs\\dev\\lib\\site-packages\\pandas\\core\\frame.py:4102\u001b[0m, in \u001b[0;36mDataFrame.__getitem__\u001b[1;34m(self, key)\u001b[0m\n\u001b[0;32m   4100\u001b[0m \u001b[38;5;28;01mif\u001b[39;00m \u001b[38;5;28mself\u001b[39m\u001b[38;5;241m.\u001b[39mcolumns\u001b[38;5;241m.\u001b[39mnlevels \u001b[38;5;241m>\u001b[39m \u001b[38;5;241m1\u001b[39m:\n\u001b[0;32m   4101\u001b[0m     \u001b[38;5;28;01mreturn\u001b[39;00m \u001b[38;5;28mself\u001b[39m\u001b[38;5;241m.\u001b[39m_getitem_multilevel(key)\n\u001b[1;32m-> 4102\u001b[0m indexer \u001b[38;5;241m=\u001b[39m \u001b[38;5;28;43mself\u001b[39;49m\u001b[38;5;241;43m.\u001b[39;49m\u001b[43mcolumns\u001b[49m\u001b[38;5;241;43m.\u001b[39;49m\u001b[43mget_loc\u001b[49m\u001b[43m(\u001b[49m\u001b[43mkey\u001b[49m\u001b[43m)\u001b[49m\n\u001b[0;32m   4103\u001b[0m \u001b[38;5;28;01mif\u001b[39;00m is_integer(indexer):\n\u001b[0;32m   4104\u001b[0m     indexer \u001b[38;5;241m=\u001b[39m [indexer]\n",
      "File \u001b[1;32mc:\\Users\\Sheila\\anaconda3\\envs\\dev\\lib\\site-packages\\pandas\\core\\indexes\\base.py:3812\u001b[0m, in \u001b[0;36mIndex.get_loc\u001b[1;34m(self, key)\u001b[0m\n\u001b[0;32m   3807\u001b[0m     \u001b[38;5;28;01mif\u001b[39;00m \u001b[38;5;28misinstance\u001b[39m(casted_key, \u001b[38;5;28mslice\u001b[39m) \u001b[38;5;129;01mor\u001b[39;00m (\n\u001b[0;32m   3808\u001b[0m         \u001b[38;5;28misinstance\u001b[39m(casted_key, abc\u001b[38;5;241m.\u001b[39mIterable)\n\u001b[0;32m   3809\u001b[0m         \u001b[38;5;129;01mand\u001b[39;00m \u001b[38;5;28many\u001b[39m(\u001b[38;5;28misinstance\u001b[39m(x, \u001b[38;5;28mslice\u001b[39m) \u001b[38;5;28;01mfor\u001b[39;00m x \u001b[38;5;129;01min\u001b[39;00m casted_key)\n\u001b[0;32m   3810\u001b[0m     ):\n\u001b[0;32m   3811\u001b[0m         \u001b[38;5;28;01mraise\u001b[39;00m InvalidIndexError(key)\n\u001b[1;32m-> 3812\u001b[0m     \u001b[38;5;28;01mraise\u001b[39;00m \u001b[38;5;167;01mKeyError\u001b[39;00m(key) \u001b[38;5;28;01mfrom\u001b[39;00m \u001b[38;5;21;01merr\u001b[39;00m\n\u001b[0;32m   3813\u001b[0m \u001b[38;5;28;01mexcept\u001b[39;00m \u001b[38;5;167;01mTypeError\u001b[39;00m:\n\u001b[0;32m   3814\u001b[0m     \u001b[38;5;66;03m# If we have a listlike key, _check_indexing_error will raise\u001b[39;00m\n\u001b[0;32m   3815\u001b[0m     \u001b[38;5;66;03m#  InvalidIndexError. Otherwise we fall through and re-raise\u001b[39;00m\n\u001b[0;32m   3816\u001b[0m     \u001b[38;5;66;03m#  the TypeError.\u001b[39;00m\n\u001b[0;32m   3817\u001b[0m     \u001b[38;5;28mself\u001b[39m\u001b[38;5;241m.\u001b[39m_check_indexing_error(key)\n",
      "\u001b[1;31mKeyError\u001b[0m: 'Moon Phase'"
     ]
    }
   ],
   "source": [
    "# Create a dictionary of full moon and other counts for total rows (i.e. individual crimes)\n",
    "moon_phase_crimes = houston_crime_sorted[\"Moon Phase\"].value_counts().to_dict()\n",
    "\n",
    "# Replace specific moon phases with \"Other\"\n",
    "moon_phase_crimes[\"Other\"] = moon_phase_crimes.pop(\"New Moon\", 0) + moon_phase_crimes.pop(\"First Quarter\", 0) + moon_phase_crimes.pop(\"Last Quarter\", 0)\n",
    "moon_phase_crimes "
   ]
  },
  {
   "cell_type": "code",
   "execution_count": 27,
   "metadata": {},
   "outputs": [
    {
     "data": {
      "text/plain": [
       "3041"
      ]
     },
     "execution_count": 27,
     "metadata": {},
     "output_type": "execute_result"
    }
   ],
   "source": [
    "# Get a total count for non-full-moon dates (i.e. days with \"Other\")\n",
    "other_dates = merged_Houston_df[merged_Houston_df[\"Moon Phase\"] == \"Other\"]\n",
    "days_other_moon = other_dates[\"Date\"].nunique()\n",
    "days_other_moon"
   ]
  },
  {
   "cell_type": "code",
   "execution_count": 28,
   "metadata": {},
   "outputs": [
    {
     "data": {
      "text/plain": [
       "(22846, 67716)"
      ]
     },
     "execution_count": 28,
     "metadata": {},
     "output_type": "execute_result"
    }
   ],
   "source": [
    "# Get a total count for individual crimes in each condition\n",
    "days_full_moon = 124\n",
    "full_moon_crimes = moon_phase_crimes.get(\"Full Moon\")\n",
    "other_moon_crimes = moon_phase_crimes.get(\"Other\")\n",
    "full_moon_crimes, other_moon_crimes "
   ]
  },
  {
   "cell_type": "code",
   "execution_count": 29,
   "metadata": {},
   "outputs": [
    {
     "name": "stdout",
     "output_type": "stream",
     "text": [
      "The crime rate during a full moon is 184.24 against a control rate of 22.27.\n",
      "These initial findings indicate a increased crime rate of 727.40% above the base line.\n"
     ]
    }
   ],
   "source": [
    "# Do the math for crime rate and percentage increase\n",
    "full_crime_rate = full_moon_crimes / days_full_moon\n",
    "other_crime_rate = other_moon_crimes / days_other_moon\n",
    "percent_increase = (full_crime_rate / other_crime_rate - 1) * 100\n",
    "\n",
    "print(f\"The crime rate during a full moon is {full_crime_rate:.2f} against a control rate of {other_crime_rate:.2f}.\")\n",
    "print(f\"These initial findings indicate a increased crime rate of {percent_increase:.2f}% above the base line.\")"
   ]
  }
 ],
 "metadata": {
  "kernelspec": {
   "display_name": "dev",
   "language": "python",
   "name": "python3"
  },
  "language_info": {
   "codemirror_mode": {
    "name": "ipython",
    "version": 3
   },
   "file_extension": ".py",
   "mimetype": "text/x-python",
   "name": "python",
   "nbconvert_exporter": "python",
   "pygments_lexer": "ipython3",
   "version": "3.10.15"
  }
 },
 "nbformat": 4,
 "nbformat_minor": 2
}
