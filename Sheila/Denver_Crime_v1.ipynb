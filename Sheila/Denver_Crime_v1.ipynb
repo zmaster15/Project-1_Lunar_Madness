{
 "cells": [
  {
   "cell_type": "code",
   "execution_count": 12,
   "metadata": {},
   "outputs": [],
   "source": [
    "import pandas as pd\n",
    "from prophet import Prophet\n",
    "from astral import moon\n",
    "import datetime as dt\n",
    "import matplotlib.pyplot as plt\n",
    "from datetime import timedelta\n",
    "%matplotlib inline"
   ]
  },
  {
   "cell_type": "code",
   "execution_count": 13,
   "metadata": {},
   "outputs": [],
   "source": [
    "# from astral import moon\n",
    "# import numpy as np\n",
    "\n",
    "# # Function to categorize lunar phase\n",
    "# def lunar_phase_category(date):\n",
    "#     if pd.isnull(date):\n",
    "#         return np.nan\n",
    "#     phase = moon.phase(date)\n",
    "#     if 0 <= phase < 7.4:\n",
    "#         return 'New Moon'\n",
    "#     elif 7.4 <= phase < 14.8:\n",
    "#         return 'First Quarter'\n",
    "#     elif 14.8 <= phase < 22.1:\n",
    "#         return 'Full Moon'\n",
    "#     else:\n",
    "#         return 'Last Quarter'\n",
    "\n",
    "# # Apply the lunar phase categorization to the dataset\n",
    "# crime_data['lunar_phase'] = crime_data['first_occurrence_date'].apply(lunar_phase_category)\n",
    "\n",
    "# # Display a summary of incidents by lunar phase\n",
    "# lunar_phase_summary = crime_data['lunar_phase'].value_counts()\n",
    "\n",
    "# lunar_phase_summary\n"
   ]
  },
  {
   "cell_type": "code",
   "execution_count": 14,
   "metadata": {},
   "outputs": [],
   "source": [
    "# Import Denver crime data and moon files\n",
    "denver_data_file = 'Denver_Crime_Data_Source_File.csv'\n",
    "moon_data_file = 'moon_data_export.csv'\n",
    "\n",
    "# Read the data into a pandas dataframe\n",
    "denver_df = pd.read_csv(denver_data_file, encoding='latin1')\n",
    "moon_df = pd.read_csv(moon_data_file)"
   ]
  },
  {
   "cell_type": "code",
   "execution_count": 15,
   "metadata": {},
   "outputs": [
    {
     "name": "stdout",
     "output_type": "stream",
     "text": [
      "<class 'pandas.core.frame.DataFrame'>\n",
      "RangeIndex: 386865 entries, 0 to 386864\n",
      "Data columns (total 2 columns):\n",
      " #   Column                 Non-Null Count   Dtype \n",
      "---  ------                 --------------   ----- \n",
      " 0   first_occurrence_date  386865 non-null  object\n",
      " 1   offense_category_id    386865 non-null  object\n",
      "dtypes: object(2)\n",
      "memory usage: 5.9+ MB\n"
     ]
    },
    {
     "data": {
      "text/html": [
       "<div>\n",
       "<style scoped>\n",
       "    .dataframe tbody tr th:only-of-type {\n",
       "        vertical-align: middle;\n",
       "    }\n",
       "\n",
       "    .dataframe tbody tr th {\n",
       "        vertical-align: top;\n",
       "    }\n",
       "\n",
       "    .dataframe thead th {\n",
       "        text-align: right;\n",
       "    }\n",
       "</style>\n",
       "<table border=\"1\" class=\"dataframe\">\n",
       "  <thead>\n",
       "    <tr style=\"text-align: right;\">\n",
       "      <th></th>\n",
       "      <th>first_occurrence_date</th>\n",
       "      <th>offense_category_id</th>\n",
       "    </tr>\n",
       "  </thead>\n",
       "  <tbody>\n",
       "    <tr>\n",
       "      <th>0</th>\n",
       "      <td>2/10/2022 2:50:00 AM</td>\n",
       "      <td>public-disorder</td>\n",
       "    </tr>\n",
       "    <tr>\n",
       "      <th>1</th>\n",
       "      <td>7/7/2021 9:02:00 PM</td>\n",
       "      <td>public-disorder</td>\n",
       "    </tr>\n",
       "    <tr>\n",
       "      <th>2</th>\n",
       "      <td>10/29/2020 1:30:00 AM</td>\n",
       "      <td>public-disorder</td>\n",
       "    </tr>\n",
       "    <tr>\n",
       "      <th>3</th>\n",
       "      <td>9/6/2018 5:00:00 PM</td>\n",
       "      <td>public-disorder</td>\n",
       "    </tr>\n",
       "    <tr>\n",
       "      <th>4</th>\n",
       "      <td>5/8/2020 5:00:00 AM</td>\n",
       "      <td>public-disorder</td>\n",
       "    </tr>\n",
       "  </tbody>\n",
       "</table>\n",
       "</div>"
      ],
      "text/plain": [
       "   first_occurrence_date offense_category_id\n",
       "0   2/10/2022 2:50:00 AM     public-disorder\n",
       "1    7/7/2021 9:02:00 PM     public-disorder\n",
       "2  10/29/2020 1:30:00 AM     public-disorder\n",
       "3    9/6/2018 5:00:00 PM     public-disorder\n",
       "4    5/8/2020 5:00:00 AM     public-disorder"
      ]
     },
     "execution_count": 15,
     "metadata": {},
     "output_type": "execute_result"
    }
   ],
   "source": [
    "# Reduce the DataFrame to necessary columns\n",
    "reduced_crime_data_df = denver_df[['first_occurrence_date', 'offense_category_id']]\n",
    "reduced_crime_data_df.info()\n",
    "reduced_crime_data_df.head()\n"
   ]
  },
  {
   "cell_type": "code",
   "execution_count": 16,
   "metadata": {},
   "outputs": [
    {
     "name": "stdout",
     "output_type": "stream",
     "text": [
      "<class 'pandas.core.frame.DataFrame'>\n",
      "RangeIndex: 386865 entries, 0 to 386864\n",
      "Data columns (total 2 columns):\n",
      " #   Column   Non-Null Count   Dtype \n",
      "---  ------   --------------   ----- \n",
      " 0   Date     386865 non-null  object\n",
      " 1   Offense  386865 non-null  object\n",
      "dtypes: object(2)\n",
      "memory usage: 5.9+ MB\n"
     ]
    },
    {
     "data": {
      "text/html": [
       "<div>\n",
       "<style scoped>\n",
       "    .dataframe tbody tr th:only-of-type {\n",
       "        vertical-align: middle;\n",
       "    }\n",
       "\n",
       "    .dataframe tbody tr th {\n",
       "        vertical-align: top;\n",
       "    }\n",
       "\n",
       "    .dataframe thead th {\n",
       "        text-align: right;\n",
       "    }\n",
       "</style>\n",
       "<table border=\"1\" class=\"dataframe\">\n",
       "  <thead>\n",
       "    <tr style=\"text-align: right;\">\n",
       "      <th></th>\n",
       "      <th>Date</th>\n",
       "      <th>Offense</th>\n",
       "    </tr>\n",
       "  </thead>\n",
       "  <tbody>\n",
       "    <tr>\n",
       "      <th>0</th>\n",
       "      <td>2022-02-10</td>\n",
       "      <td>public-disorder</td>\n",
       "    </tr>\n",
       "    <tr>\n",
       "      <th>1</th>\n",
       "      <td>2021-07-07</td>\n",
       "      <td>public-disorder</td>\n",
       "    </tr>\n",
       "    <tr>\n",
       "      <th>2</th>\n",
       "      <td>2020-10-29</td>\n",
       "      <td>public-disorder</td>\n",
       "    </tr>\n",
       "    <tr>\n",
       "      <th>3</th>\n",
       "      <td>2018-09-06</td>\n",
       "      <td>public-disorder</td>\n",
       "    </tr>\n",
       "    <tr>\n",
       "      <th>4</th>\n",
       "      <td>2020-05-08</td>\n",
       "      <td>public-disorder</td>\n",
       "    </tr>\n",
       "  </tbody>\n",
       "</table>\n",
       "</div>"
      ],
      "text/plain": [
       "         Date          Offense\n",
       "0  2022-02-10  public-disorder\n",
       "1  2021-07-07  public-disorder\n",
       "2  2020-10-29  public-disorder\n",
       "3  2018-09-06  public-disorder\n",
       "4  2020-05-08  public-disorder"
      ]
     },
     "execution_count": 16,
     "metadata": {},
     "output_type": "execute_result"
    }
   ],
   "source": [
    "# Rename columns for readability\n",
    "cleaned_crime_data_df = reduced_crime_data_df.rename(columns={ \n",
    "                                              'offense_category_id': 'Offense', \n",
    "                                              'first_occurrence_date': 'Date'})\n",
    "\n",
    "# Fill empty Incident Address fields with 'missing'\n",
    "cleaned_crime_data_df.fillna('missing', inplace=True)\n",
    "\n",
    "# Change Occurance Date to datetime format\n",
    "cleaned_crime_data_df['Date'] = pd.to_datetime(cleaned_crime_data_df['Date']).dt.date\n",
    "\n",
    "# Display DataFrame info and first 5 rows\n",
    "cleaned_crime_data_df.info()\n",
    "cleaned_crime_data_df.head()"
   ]
  },
  {
   "cell_type": "code",
   "execution_count": 17,
   "metadata": {},
   "outputs": [
    {
     "data": {
      "text/plain": [
       "array(['public-disorder', 'drug-alcohol', 'sexual-assault',\n",
       "       'other-crimes-against-persons', 'all-other-crimes',\n",
       "       'white-collar-crime', 'murder', 'robbery', 'aggravated-assault',\n",
       "       'arson', 'burglary', 'larceny', 'theft-from-motor-vehicle',\n",
       "       'auto-theft'], dtype=object)"
      ]
     },
     "execution_count": 17,
     "metadata": {},
     "output_type": "execute_result"
    }
   ],
   "source": [
    "cleaned_crime_data_df['Offense'].unique()"
   ]
  },
  {
   "cell_type": "code",
   "execution_count": 18,
   "metadata": {},
   "outputs": [
    {
     "data": {
      "text/html": [
       "<div>\n",
       "<style scoped>\n",
       "    .dataframe tbody tr th:only-of-type {\n",
       "        vertical-align: middle;\n",
       "    }\n",
       "\n",
       "    .dataframe tbody tr th {\n",
       "        vertical-align: top;\n",
       "    }\n",
       "\n",
       "    .dataframe thead th {\n",
       "        text-align: right;\n",
       "    }\n",
       "</style>\n",
       "<table border=\"1\" class=\"dataframe\">\n",
       "  <thead>\n",
       "    <tr style=\"text-align: right;\">\n",
       "      <th></th>\n",
       "      <th>Date</th>\n",
       "      <th>Offense</th>\n",
       "    </tr>\n",
       "  </thead>\n",
       "  <tbody>\n",
       "    <tr>\n",
       "      <th>0</th>\n",
       "      <td>2018-01-02</td>\n",
       "      <td>larceny</td>\n",
       "    </tr>\n",
       "    <tr>\n",
       "      <th>1</th>\n",
       "      <td>2018-01-02</td>\n",
       "      <td>public-disorder</td>\n",
       "    </tr>\n",
       "    <tr>\n",
       "      <th>2</th>\n",
       "      <td>2018-01-02</td>\n",
       "      <td>larceny</td>\n",
       "    </tr>\n",
       "    <tr>\n",
       "      <th>3</th>\n",
       "      <td>2018-01-02</td>\n",
       "      <td>drug-alcohol</td>\n",
       "    </tr>\n",
       "    <tr>\n",
       "      <th>4</th>\n",
       "      <td>2018-01-02</td>\n",
       "      <td>all-other-crimes</td>\n",
       "    </tr>\n",
       "    <tr>\n",
       "      <th>...</th>\n",
       "      <td>...</td>\n",
       "      <td>...</td>\n",
       "    </tr>\n",
       "    <tr>\n",
       "      <th>386859</th>\n",
       "      <td>2023-10-03</td>\n",
       "      <td>public-disorder</td>\n",
       "    </tr>\n",
       "    <tr>\n",
       "      <th>386860</th>\n",
       "      <td>2023-10-03</td>\n",
       "      <td>public-disorder</td>\n",
       "    </tr>\n",
       "    <tr>\n",
       "      <th>386861</th>\n",
       "      <td>2023-10-03</td>\n",
       "      <td>aggravated-assault</td>\n",
       "    </tr>\n",
       "    <tr>\n",
       "      <th>386862</th>\n",
       "      <td>2023-10-03</td>\n",
       "      <td>aggravated-assault</td>\n",
       "    </tr>\n",
       "    <tr>\n",
       "      <th>386863</th>\n",
       "      <td>2023-10-03</td>\n",
       "      <td>larceny</td>\n",
       "    </tr>\n",
       "  </tbody>\n",
       "</table>\n",
       "<p>386864 rows × 2 columns</p>\n",
       "</div>"
      ],
      "text/plain": [
       "              Date             Offense\n",
       "0       2018-01-02             larceny\n",
       "1       2018-01-02     public-disorder\n",
       "2       2018-01-02             larceny\n",
       "3       2018-01-02        drug-alcohol\n",
       "4       2018-01-02    all-other-crimes\n",
       "...            ...                 ...\n",
       "386859  2023-10-03     public-disorder\n",
       "386860  2023-10-03     public-disorder\n",
       "386861  2023-10-03  aggravated-assault\n",
       "386862  2023-10-03  aggravated-assault\n",
       "386863  2023-10-03             larceny\n",
       "\n",
       "[386864 rows x 2 columns]"
      ]
     },
     "execution_count": 18,
     "metadata": {},
     "output_type": "execute_result"
    }
   ],
   "source": [
    "# Sort the data by Occurrance Date\n",
    "sorted_crime_data_df = cleaned_crime_data_df.sort_values(by='Date', ascending=True)\n",
    "\n",
    "# Reset Index\n",
    "sorted_crime_data_df = sorted_crime_data_df.reset_index(drop=True)\n",
    "sorted_crime_data_df.head(-1)"
   ]
  },
  {
   "cell_type": "code",
   "execution_count": 19,
   "metadata": {},
   "outputs": [
    {
     "name": "stdout",
     "output_type": "stream",
     "text": [
      "           Total Incidents  Crimes  Crime Rate (%)\n",
      "Full Moon                                         \n",
      "False               346494  346494           100.0\n",
      "True                 40371   40371           100.0\n"
     ]
    }
   ],
   "source": [
    "# Convert date columns to datetime format\n",
    "sorted_crime_data_df['Date'] = pd.to_datetime(sorted_crime_data_df['Date'], errors='coerce')\n",
    "moon_df['Date'] = pd.to_datetime(moon_df['Date'], errors='coerce')\n",
    "\n",
    "# Filter moon data for full moon events\n",
    "full_moon_df = moon_df[moon_df['Moon Phase'] == 'Full Moon']\n",
    "\n",
    "# Create a window for \"near full moon\" (e.g., ±1 day)\n",
    "full_moon_periods = pd.concat([\n",
    "    full_moon_df['Date'] - timedelta(days=1),\n",
    "    full_moon_df['Date'],\n",
    "    full_moon_df['Date'] + timedelta(days=1)\n",
    "]).drop_duplicates().reset_index(drop=True)\n",
    "\n",
    "# Add a column to indicate if the date is within the full moon periods\n",
    "sorted_crime_data_df['Full Moon'] = sorted_crime_data_df['Date'].isin(full_moon_periods)\n",
    "\n",
    "# Group data by full moon indicator and calculate summary statistics\n",
    "denver_crime_sorted = sorted_crime_data_df.groupby('Full Moon')['Offense'].agg(['count', 'size'])\n",
    "denver_crime_sorted.rename(columns={'count': 'Total Incidents', 'size': 'Crimes'}, inplace=True)\n",
    "\n",
    "# Convert 'Crimes' column to numeric\n",
    "denver_crime_sorted['Crimes'] = denver_crime_sorted['Crimes'].astype(int)\n",
    "\n",
    "# Add a column for Crime Rate (%)\n",
    "denver_crime_sorted['Crime Rate (%)'] = (denver_crime_sorted['Crimes'] / denver_crime_sorted['Total Incidents']) * 100\n",
    "\n",
    "# Display the adjusted crime summary\n",
    "print(denver_crime_sorted)\n"
   ]
  },
  {
   "cell_type": "code",
   "execution_count": 20,
   "metadata": {},
   "outputs": [
    {
     "data": {
      "image/png": "[encoded data removed]",
      "text/plain": [
       "<Figure size 1000x600 with 1 Axes>"
      ]
     },
     "metadata": {},
     "output_type": "display_data"
    }
   ],
   "source": [
    "denver_crime_summary = pd.DataFrame({\n",
    "    \"Is Full Moon\": [\"Full Moon\", \"Not Full Moon\"],\n",
    "    \"Counts\": [450, 800],  # Replace these numbers with actual data from the notebook\n",
    "    \"Days\": [30, 335],  # Example: Days with Full Moon and non-Full Moon days in a year\n",
    "})\n",
    "\n",
    "# Calculate crime rate per day for each category\n",
    "denver_crime_summary[\"Rate Per Day\"] = denver_crime_summary[\"Counts\"] / denver_crime_summary[\"Days\"]\n",
    "\n",
    "# Calculate the percentage increase of crime rate during Full Moon compared to other days\n",
    "full_moon_rate = denver_crime_summary.loc[denver_crime_summary[\"Is Full Moon\"] == \"Full Moon\", \"Rate Per Day\"].values[0]\n",
    "other_days_rate = denver_crime_summary.loc[denver_crime_summary[\"Is Full Moon\"] == \"Not Full Moon\", \"Rate Per Day\"].values[0]\n",
    "percentage_increase = ((full_moon_rate - other_days_rate) / other_days_rate) * 100\n",
    "\n",
    "# Visualization: Enhance the bar chart with the new metric\n",
    "fig, ax = plt.subplots(figsize=(10, 6))\n",
    "bars = ax.bar(denver_crime_summary[\"Is Full Moon\"], denver_crime_summary[\"Rate Per Day\"], color=[\"skyblue\", \"salmon\"])\n",
    "ax.set_title(\"Crime Rate Per Day: Full Moon vs. Other Days\", fontsize=14)\n",
    "ax.set_xlabel(\"Is Full Moon\", fontsize=12)\n",
    "ax.set_ylabel(\"Crime Rate Per Day\", fontsize=12)\n",
    "ax.bar_label(bars, fmt=\"%.2f\")\n",
    "\n",
    "# Display the percentage increase in the title\n",
    "plt.figtext(0.5, -0.1, f\"Percentage Increase During Full Moon: {percentage_increase:.2f}%\",\n",
    "            wrap=True, horizontalalignment='center', fontsize=12)\n",
    "\n",
    "plt.show()"
   ]
  },
  {
   "cell_type": "code",
   "execution_count": 22,
   "metadata": {},
   "outputs": [],
   "source": [
    "# Export to CSV\n",
    "denver_crime_summary.to_csv('denver_crime_data_export.csv', index=False, header=True)"
   ]
  }
 ],
 "metadata": {
  "kernelspec": {
   "display_name": "dev",
   "language": "python",
   "name": "python3"
  },
  "language_info": {
   "codemirror_mode": {
    "name": "ipython",
    "version": 3
   },
   "file_extension": ".py",
   "mimetype": "text/x-python",
   "name": "python",
   "nbconvert_exporter": "python",
   "pygments_lexer": "ipython3",
   "version": "3.10.15"
  }
 },
 "nbformat": 4,
 "nbformat_minor": 2
}
