{
 "cells": [
  {
   "cell_type": "code",
   "execution_count": 1,
   "metadata": {},
   "outputs": [],
   "source": [
    "import pandas as pd\n",
    "from prophet import Prophet\n",
    "import datetime as dt\n",
    "import numpy as np\n",
    "import matplotlib.pyplot as plt\n",
    "%matplotlib inline"
   ]
  },
  {
   "cell_type": "code",
   "execution_count": 4,
   "metadata": {},
   "outputs": [],
   "source": [
    "# Import Houston crime data and moon files\n",
    "houston_data_file = 'Houston_Crime_Cleaned.csv'\n",
    "moon_data_file = 'moon_data_export.csv'\n",
    "\n",
    "# Read the data into a pandas dataframe\n",
    "houston_df= pd.read_csv(houston_data_file)\n",
    "moon_df = pd.read_csv(moon_data_file)"
   ]
  },
  {
   "cell_type": "code",
   "execution_count": 12,
   "metadata": {},
   "outputs": [
    {
     "data": {
      "text/html": [
       "<div>\n",
       "<style scoped>\n",
       "    .dataframe tbody tr th:only-of-type {\n",
       "        vertical-align: middle;\n",
       "    }\n",
       "\n",
       "    .dataframe tbody tr th {\n",
       "        vertical-align: top;\n",
       "    }\n",
       "\n",
       "    .dataframe thead th {\n",
       "        text-align: right;\n",
       "    }\n",
       "</style>\n",
       "<table border=\"1\" class=\"dataframe\">\n",
       "  <thead>\n",
       "    <tr style=\"text-align: right;\">\n",
       "      <th></th>\n",
       "      <th>Moon Phase</th>\n",
       "      <th>Date</th>\n",
       "    </tr>\n",
       "  </thead>\n",
       "  <tbody>\n",
       "    <tr>\n",
       "      <th>0</th>\n",
       "      <td>Last Quarter</td>\n",
       "      <td>2023-01-15</td>\n",
       "    </tr>\n",
       "    <tr>\n",
       "      <th>1</th>\n",
       "      <td>New Moon</td>\n",
       "      <td>2023-01-21</td>\n",
       "    </tr>\n",
       "    <tr>\n",
       "      <th>2</th>\n",
       "      <td>First Quarter</td>\n",
       "      <td>2023-01-28</td>\n",
       "    </tr>\n",
       "    <tr>\n",
       "      <th>3</th>\n",
       "      <td>Full Moon</td>\n",
       "      <td>2023-02-05</td>\n",
       "    </tr>\n",
       "    <tr>\n",
       "      <th>4</th>\n",
       "      <td>Last Quarter</td>\n",
       "      <td>2023-02-13</td>\n",
       "    </tr>\n",
       "  </tbody>\n",
       "</table>\n",
       "</div>"
      ],
      "text/plain": [
       "      Moon Phase        Date\n",
       "0   Last Quarter  2023-01-15\n",
       "1       New Moon  2023-01-21\n",
       "2  First Quarter  2023-01-28\n",
       "3      Full Moon  2023-02-05\n",
       "4   Last Quarter  2023-02-13"
      ]
     },
     "execution_count": 12,
     "metadata": {},
     "output_type": "execute_result"
    }
   ],
   "source": [
    "# Drop Time (Universal Time) column from moon data\n",
    "moon_df = moon_df.drop(columns=[\"Time (Universal Time)\"])\n",
    "\n",
    "# Display the first 5 rows of the moon data\n",
    "moon_df.head()"
   ]
  },
  {
   "cell_type": "code",
   "execution_count": 13,
   "metadata": {},
   "outputs": [
    {
     "data": {
      "text/html": [
       "<div>\n",
       "<style scoped>\n",
       "    .dataframe tbody tr th:only-of-type {\n",
       "        vertical-align: middle;\n",
       "    }\n",
       "\n",
       "    .dataframe tbody tr th {\n",
       "        vertical-align: top;\n",
       "    }\n",
       "\n",
       "    .dataframe thead th {\n",
       "        text-align: right;\n",
       "    }\n",
       "</style>\n",
       "<table border=\"1\" class=\"dataframe\">\n",
       "  <thead>\n",
       "    <tr style=\"text-align: right;\">\n",
       "      <th></th>\n",
       "      <th>Offense Date</th>\n",
       "      <th>Offense</th>\n",
       "    </tr>\n",
       "  </thead>\n",
       "  <tbody>\n",
       "    <tr>\n",
       "      <th>0</th>\n",
       "      <td>2016-02-13</td>\n",
       "      <td>Aggravated Assault</td>\n",
       "    </tr>\n",
       "    <tr>\n",
       "      <th>1</th>\n",
       "      <td>2016-02-16</td>\n",
       "      <td>Theft</td>\n",
       "    </tr>\n",
       "    <tr>\n",
       "      <th>2</th>\n",
       "      <td>2016-02-19</td>\n",
       "      <td>Aggravated Assault</td>\n",
       "    </tr>\n",
       "    <tr>\n",
       "      <th>3</th>\n",
       "      <td>2016-02-19</td>\n",
       "      <td>Theft</td>\n",
       "    </tr>\n",
       "    <tr>\n",
       "      <th>4</th>\n",
       "      <td>2016-02-20</td>\n",
       "      <td>Burglary</td>\n",
       "    </tr>\n",
       "  </tbody>\n",
       "</table>\n",
       "</div>"
      ],
      "text/plain": [
       "  Offense Date             Offense\n",
       "0   2016-02-13  Aggravated Assault\n",
       "1   2016-02-16               Theft\n",
       "2   2016-02-19  Aggravated Assault\n",
       "3   2016-02-19               Theft\n",
       "4   2016-02-20            Burglary"
      ]
     },
     "execution_count": 13,
     "metadata": {},
     "output_type": "execute_result"
    }
   ],
   "source": [
    "# Check the first few rows of the Houston data\n",
    "houston_df.head()"
   ]
  },
  {
   "cell_type": "code",
   "execution_count": 14,
   "metadata": {},
   "outputs": [
    {
     "data": {
      "text/html": [
       "<div>\n",
       "<style scoped>\n",
       "    .dataframe tbody tr th:only-of-type {\n",
       "        vertical-align: middle;\n",
       "    }\n",
       "\n",
       "    .dataframe tbody tr th {\n",
       "        vertical-align: top;\n",
       "    }\n",
       "\n",
       "    .dataframe thead th {\n",
       "        text-align: right;\n",
       "    }\n",
       "</style>\n",
       "<table border=\"1\" class=\"dataframe\">\n",
       "  <thead>\n",
       "    <tr style=\"text-align: right;\">\n",
       "      <th></th>\n",
       "      <th>Date</th>\n",
       "      <th>Offense</th>\n",
       "    </tr>\n",
       "  </thead>\n",
       "  <tbody>\n",
       "    <tr>\n",
       "      <th>0</th>\n",
       "      <td>2016-02-13</td>\n",
       "      <td>Aggravated Assault</td>\n",
       "    </tr>\n",
       "    <tr>\n",
       "      <th>1</th>\n",
       "      <td>2016-02-16</td>\n",
       "      <td>Theft</td>\n",
       "    </tr>\n",
       "    <tr>\n",
       "      <th>2</th>\n",
       "      <td>2016-02-19</td>\n",
       "      <td>Aggravated Assault</td>\n",
       "    </tr>\n",
       "    <tr>\n",
       "      <th>3</th>\n",
       "      <td>2016-02-19</td>\n",
       "      <td>Theft</td>\n",
       "    </tr>\n",
       "    <tr>\n",
       "      <th>4</th>\n",
       "      <td>2016-02-20</td>\n",
       "      <td>Burglary</td>\n",
       "    </tr>\n",
       "  </tbody>\n",
       "</table>\n",
       "</div>"
      ],
      "text/plain": [
       "        Date             Offense\n",
       "0 2016-02-13  Aggravated Assault\n",
       "1 2016-02-16               Theft\n",
       "2 2016-02-19  Aggravated Assault\n",
       "3 2016-02-19               Theft\n",
       "4 2016-02-20            Burglary"
      ]
     },
     "execution_count": 14,
     "metadata": {},
     "output_type": "execute_result"
    }
   ],
   "source": [
    "# Clean up Houston crime data to only include relevant columns, Date as datetime, and Offense\n",
    "# and fill in missing values\n",
    "\n",
    "houston_crime_df = houston_df[['Offense Date', 'Offense']]\n",
    "\n",
    "# Rename columns\n",
    "houston_crime_df.columns = ['Date', 'Offense']\n",
    "\n",
    "# Convert 'Occurred Date' to datetime format and ensure consistency (set day as smallest increment)\n",
    "houston_crime_df['Date'] = pd.to_datetime(houston_crime_df['Date'], errors='coerce').dt.normalize()\n",
    "\n",
    "# Check for cleaned Austin data\n",
    "houston_crime_df.head()"
   ]
  },
  {
   "cell_type": "code",
   "execution_count": 18,
   "metadata": {},
   "outputs": [
    {
     "name": "stdout",
     "output_type": "stream",
     "text": [
      "<class 'pandas.core.frame.DataFrame'>\n",
      "RangeIndex: 1185474 entries, 0 to 1185473\n",
      "Data columns (total 2 columns):\n",
      " #   Column   Non-Null Count    Dtype         \n",
      "---  ------   --------------    -----         \n",
      " 0   Date     1185474 non-null  datetime64[ns]\n",
      " 1   Offense  1185474 non-null  object        \n",
      "dtypes: datetime64[ns](1), object(1)\n",
      "memory usage: 18.1+ MB\n",
      "<class 'pandas.core.frame.DataFrame'>\n",
      "RangeIndex: 500 entries, 0 to 499\n",
      "Data columns (total 2 columns):\n",
      " #   Column      Non-Null Count  Dtype \n",
      "---  ------      --------------  ----- \n",
      " 0   Moon Phase  500 non-null    object\n",
      " 1   Date        500 non-null    object\n",
      "dtypes: object(2)\n",
      "memory usage: 7.9+ KB\n"
     ]
    }
   ],
   "source": [
    "houston_crime_df.info()\n",
    "moon_df.info()"
   ]
  },
  {
   "cell_type": "code",
   "execution_count": 19,
   "metadata": {},
   "outputs": [
    {
     "data": {
      "text/plain": [
       "(495, 2)"
      ]
     },
     "execution_count": 19,
     "metadata": {},
     "output_type": "execute_result"
    }
   ],
   "source": [
    "moon_limited = moon_df.drop_duplicates(subset=[\"Date\"])\n",
    "moon_limited.shape"
   ]
  },
  {
   "cell_type": "code",
   "execution_count": 24,
   "metadata": {},
   "outputs": [
    {
     "name": "stderr",
     "output_type": "stream",
     "text": [
      "C:\\Users\\Sheila\\AppData\\Local\\Temp\\ipykernel_24252\\1048315106.py:2: SettingWithCopyWarning: \n",
      "A value is trying to be set on a copy of a slice from a DataFrame.\n",
      "Try using .loc[row_indexer,col_indexer] = value instead\n",
      "\n",
      "See the caveats in the documentation: https://pandas.pydata.org/pandas-docs/stable/user_guide/indexing.html#returning-a-view-versus-a-copy\n",
      "  moon_limited['Date'] = pd.to_datetime(moon_limited['Date'], errors='coerce').dt.normalize()\n"
     ]
    },
    {
     "name": "stdout",
     "output_type": "stream",
     "text": [
      "<class 'pandas.core.frame.DataFrame'>\n",
      "RangeIndex: 1185474 entries, 0 to 1185473\n",
      "Data columns (total 3 columns):\n",
      " #   Column      Non-Null Count    Dtype         \n",
      "---  ------      --------------    -----         \n",
      " 0   Date        1185474 non-null  datetime64[ns]\n",
      " 1   Offense     1185474 non-null  object        \n",
      " 2   Moon Phase  1185474 non-null  object        \n",
      "dtypes: datetime64[ns](1), object(2)\n",
      "memory usage: 27.1+ MB\n"
     ]
    },
    {
     "data": {
      "text/html": [
       "<div>\n",
       "<style scoped>\n",
       "    .dataframe tbody tr th:only-of-type {\n",
       "        vertical-align: middle;\n",
       "    }\n",
       "\n",
       "    .dataframe tbody tr th {\n",
       "        vertical-align: top;\n",
       "    }\n",
       "\n",
       "    .dataframe thead th {\n",
       "        text-align: right;\n",
       "    }\n",
       "</style>\n",
       "<table border=\"1\" class=\"dataframe\">\n",
       "  <thead>\n",
       "    <tr style=\"text-align: right;\">\n",
       "      <th></th>\n",
       "      <th>Date</th>\n",
       "      <th>Offense</th>\n",
       "      <th>Moon Phase</th>\n",
       "    </tr>\n",
       "  </thead>\n",
       "  <tbody>\n",
       "    <tr>\n",
       "      <th>0</th>\n",
       "      <td>2016-02-13</td>\n",
       "      <td>Aggravated Assault</td>\n",
       "      <td>Other</td>\n",
       "    </tr>\n",
       "    <tr>\n",
       "      <th>1</th>\n",
       "      <td>2016-02-16</td>\n",
       "      <td>Theft</td>\n",
       "      <td>Other</td>\n",
       "    </tr>\n",
       "    <tr>\n",
       "      <th>2</th>\n",
       "      <td>2016-02-19</td>\n",
       "      <td>Aggravated Assault</td>\n",
       "      <td>Other</td>\n",
       "    </tr>\n",
       "    <tr>\n",
       "      <th>3</th>\n",
       "      <td>2016-02-19</td>\n",
       "      <td>Theft</td>\n",
       "      <td>Other</td>\n",
       "    </tr>\n",
       "    <tr>\n",
       "      <th>4</th>\n",
       "      <td>2016-02-20</td>\n",
       "      <td>Burglary</td>\n",
       "      <td>Other</td>\n",
       "    </tr>\n",
       "  </tbody>\n",
       "</table>\n",
       "</div>"
      ],
      "text/plain": [
       "        Date             Offense Moon Phase\n",
       "0 2016-02-13  Aggravated Assault      Other\n",
       "1 2016-02-16               Theft      Other\n",
       "2 2016-02-19  Aggravated Assault      Other\n",
       "3 2016-02-19               Theft      Other\n",
       "4 2016-02-20            Burglary      Other"
      ]
     },
     "execution_count": 24,
     "metadata": {},
     "output_type": "execute_result"
    }
   ],
   "source": [
    "# Ensure 'Date' column in moon_limited is in datetime format\n",
    "moon_limited['Date'] = pd.to_datetime(moon_limited['Date'], errors='coerce').dt.normalize()\n",
    "\n",
    "# Merge dataframes and fill absent moon phase values with \"Other\"\n",
    "merged_Houston_df = houston_crime_df.merge(\n",
    "    moon_limited,\n",
    "    how=\"left\",\n",
    "    on=\"Date\"\n",
    ").fillna(\"Other\")\n",
    "\n",
    "# Display the first 5 rows of the merged data\n",
    "merged_Houston_df.info()\n",
    "merged_Houston_df.head()"
   ]
  },
  {
   "cell_type": "code",
   "execution_count": 26,
   "metadata": {},
   "outputs": [
    {
     "data": {
      "text/plain": [
       "{'Other': 67716, 'Full Moon': 22846}"
      ]
     },
     "execution_count": 26,
     "metadata": {},
     "output_type": "execute_result"
    }
   ],
   "source": [
    "# Create a dictionary of full moon and other counts for total rows (i.e. individual crimes)\n",
    "moon_phase_crimes = merged_Houston_df[\"Moon Phase\"].value_counts().to_dict()\n",
    "\n",
    "# Replace specific moon phases with \"Other\"\n",
    "moon_phase_crimes[\"Other\"] = moon_phase_crimes.pop(\"New Moon\", 0) + moon_phase_crimes.pop(\"First Quarter\", 0) + moon_phase_crimes.pop(\"Last Quarter\", 0)\n",
    "moon_phase_crimes "
   ]
  },
  {
   "cell_type": "code",
   "execution_count": 27,
   "metadata": {},
   "outputs": [
    {
     "data": {
      "text/plain": [
       "3041"
      ]
     },
     "execution_count": 27,
     "metadata": {},
     "output_type": "execute_result"
    }
   ],
   "source": [
    "# Get a total count for non-full-moon dates (i.e. days with \"Other\")\n",
    "other_dates = merged_Houston_df[merged_Houston_df[\"Moon Phase\"] == \"Other\"]\n",
    "days_other_moon = other_dates[\"Date\"].nunique()\n",
    "days_other_moon"
   ]
  },
  {
   "cell_type": "code",
   "execution_count": 28,
   "metadata": {},
   "outputs": [
    {
     "data": {
      "text/plain": [
       "(22846, 67716)"
      ]
     },
     "execution_count": 28,
     "metadata": {},
     "output_type": "execute_result"
    }
   ],
   "source": [
    "# Get a total count for individual crimes in each condition\n",
    "days_full_moon = 124\n",
    "full_moon_crimes = moon_phase_crimes.get(\"Full Moon\")\n",
    "other_moon_crimes = moon_phase_crimes.get(\"Other\")\n",
    "full_moon_crimes, other_moon_crimes "
   ]
  },
  {
   "cell_type": "code",
   "execution_count": 29,
   "metadata": {},
   "outputs": [
    {
     "name": "stdout",
     "output_type": "stream",
     "text": [
      "The crime rate during a full moon is 184.24 against a control rate of 22.27.\n",
      "These initial findings indicate a increased crime rate of 727.40% above the base line.\n"
     ]
    }
   ],
   "source": [
    "# Do the math for crime rate and percentage increase\n",
    "full_crime_rate = full_moon_crimes / days_full_moon\n",
    "other_crime_rate = other_moon_crimes / days_other_moon\n",
    "percent_increase = (full_crime_rate / other_crime_rate - 1) * 100\n",
    "\n",
    "print(f\"The crime rate during a full moon is {full_crime_rate:.2f} against a control rate of {other_crime_rate:.2f}.\")\n",
    "print(f\"These initial findings indicate a increased crime rate of {percent_increase:.2f}% above the base line.\")"
   ]
  }
 ],
 "metadata": {
  "kernelspec": {
   "display_name": "dev",
   "language": "python",
   "name": "python3"
  },
  "language_info": {
   "codemirror_mode": {
    "name": "ipython",
    "version": 3
   },
   "file_extension": ".py",
   "mimetype": "text/x-python",
   "name": "python",
   "nbconvert_exporter": "python",
   "pygments_lexer": "ipython3",
   "version": "3.10.15"
  }
 },
 "nbformat": 4,
 "nbformat_minor": 2
}
