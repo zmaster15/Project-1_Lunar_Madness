{
 "cells": [
  {
   "cell_type": "code",
   "execution_count": 1,
   "metadata": {},
   "outputs": [],
   "source": [
    "import pandas as pd\n",
    "from prophet import Prophet\n",
    "import datetime as dt\n",
    "import numpy as np\n",
    "import matplotlib.pyplot as plt\n",
    "%matplotlib inline"
   ]
  },
  {
   "cell_type": "code",
   "execution_count": 6,
   "metadata": {},
   "outputs": [],
   "source": [
    "# Import Los Angeles crime data and moon files\n",
    "LA_data_file = 'LA_Crime_Data_Source_File.csv'\n",
    "moon_data_file = 'moon_data_export.csv'\n",
    "\n",
    "# Read the data into a pandas dataframe\n",
    "LA_df = pd.read_csv(LA_data_file)\n",
    "moon_df = pd.read_csv(moon_data_file)"
   ]
  },
  {
   "cell_type": "code",
   "execution_count": 9,
   "metadata": {},
   "outputs": [
    {
     "name": "stderr",
     "output_type": "stream",
     "text": [
      "C:\\Users\\Sheila\\AppData\\Local\\Temp\\ipykernel_23592\\1767251723.py:6: UserWarning: Could not infer format, so each element will be parsed individually, falling back to `dateutil`. To ensure parsing is consistent and as-expected, please specify a format.\n",
      "  LA_df['DATE OCC'] = pd.to_datetime(LA_df['DATE OCC'])\n"
     ]
    },
    {
     "name": "stdout",
     "output_type": "stream",
     "text": [
      "<class 'pandas.core.frame.DataFrame'>\n",
      "RangeIndex: 500 entries, 0 to 499\n",
      "Data columns (total 2 columns):\n",
      " #   Column      Non-Null Count  Dtype         \n",
      "---  ------      --------------  -----         \n",
      " 0   Moon Phase  500 non-null    object        \n",
      " 1   Date        500 non-null    datetime64[ns]\n",
      "dtypes: datetime64[ns](1), object(1)\n",
      "memory usage: 7.9+ KB\n",
      "<class 'pandas.core.frame.DataFrame'>\n",
      "RangeIndex: 1004681 entries, 0 to 1004680\n",
      "Data columns (total 28 columns):\n",
      " #   Column          Non-Null Count    Dtype         \n",
      "---  ------          --------------    -----         \n",
      " 0   DR_NO           1004681 non-null  int64         \n",
      " 1   Date Rptd       1004681 non-null  object        \n",
      " 2   DATE OCC        1004681 non-null  datetime64[ns]\n",
      " 3   TIME OCC        1004681 non-null  int64         \n",
      " 4   AREA            1004681 non-null  int64         \n",
      " 5   AREA NAME       1004681 non-null  object        \n",
      " 6   Rpt Dist No     1004681 non-null  int64         \n",
      " 7   Part 1-2        1004681 non-null  int64         \n",
      " 8   Crm Cd          1004681 non-null  int64         \n",
      " 9   Crm Cd Desc     1004681 non-null  object        \n",
      " 10  Mocodes         853090 non-null   object        \n",
      " 11  Vict Age        1004681 non-null  int64         \n",
      " 12  Vict Sex        860075 non-null   object        \n",
      " 13  Vict Descent    860063 non-null   object        \n",
      " 14  Premis Cd       1004665 non-null  float64       \n",
      " 15  Premis Desc     1004093 non-null  object        \n",
      " 16  Weapon Used Cd  327169 non-null   float64       \n",
      " 17  Weapon Desc     327169 non-null   object        \n",
      " 18  Status          1004680 non-null  object        \n",
      " 19  Status Desc     1004681 non-null  object        \n",
      " 20  Crm Cd 1        1004670 non-null  float64       \n",
      " 21  Crm Cd 2        69124 non-null    float64       \n",
      " 22  Crm Cd 3        2315 non-null     float64       \n",
      " 23  Crm Cd 4        64 non-null       float64       \n",
      " 24  LOCATION        1004681 non-null  object        \n",
      " 25  Cross Street    154213 non-null   object        \n",
      " 26  LAT             1004681 non-null  float64       \n",
      " 27  LON             1004681 non-null  float64       \n",
      "dtypes: datetime64[ns](1), float64(8), int64(7), object(12)\n",
      "memory usage: 214.6+ MB\n"
     ]
    }
   ],
   "source": [
    "# # Drop Time (Universal Time) column from moon data\n",
    "\n",
    "# Change Date column to datetime format\n",
    "moon_df['Date'] = pd.to_datetime(moon_df['Date'])\n",
    "LA_df['DATE OCC'] = pd.to_datetime(LA_df['DATE OCC'])\n",
    "\n",
    "# Display the first 5 rows of the moon data\n",
    "moon_df.info()"
   ]
  },
  {
   "cell_type": "code",
   "execution_count": 2,
   "metadata": {},
   "outputs": [
    {
     "ename": "NameError",
     "evalue": "name 'LA_df' is not defined",
     "output_type": "error",
     "traceback": [
      "\u001b[1;31m---------------------------------------------------------------------------\u001b[0m",
      "\u001b[1;31mNameError\u001b[0m                                 Traceback (most recent call last)",
      "Cell \u001b[1;32mIn[2], line 2\u001b[0m\n\u001b[0;32m      1\u001b[0m \u001b[38;5;66;03m# Check the first 5 rows of the LA crime data\u001b[39;00m\n\u001b[1;32m----> 2\u001b[0m \u001b[43mLA_df\u001b[49m\u001b[38;5;241m.\u001b[39mhead()\n",
      "\u001b[1;31mNameError\u001b[0m: name 'LA_df' is not defined"
     ]
    }
   ],
   "source": [
    "# Check the first 5 rows of the LA crime data\n",
    "LA_df.head()"
   ]
  },
  {
   "cell_type": "code",
   "execution_count": 11,
   "metadata": {},
   "outputs": [
    {
     "name": "stdout",
     "output_type": "stream",
     "text": [
      "<class 'pandas.core.frame.DataFrame'>\n",
      "RangeIndex: 1004681 entries, 0 to 1004680\n",
      "Data columns (total 2 columns):\n",
      " #   Column   Non-Null Count    Dtype         \n",
      "---  ------   --------------    -----         \n",
      " 0   Date     1004681 non-null  datetime64[ns]\n",
      " 1   Offense  1004681 non-null  object        \n",
      "dtypes: datetime64[ns](1), object(1)\n",
      "memory usage: 15.3+ MB\n"
     ]
    },
    {
     "name": "stderr",
     "output_type": "stream",
     "text": [
      "C:\\Users\\Sheila\\AppData\\Local\\Temp\\ipykernel_23592\\2230349433.py:10: SettingWithCopyWarning: \n",
      "A value is trying to be set on a copy of a slice from a DataFrame.\n",
      "Try using .loc[row_indexer,col_indexer] = value instead\n",
      "\n",
      "See the caveats in the documentation: https://pandas.pydata.org/pandas-docs/stable/user_guide/indexing.html#returning-a-view-versus-a-copy\n",
      "  LA_crime_df['Date'] = pd.to_datetime(LA_crime_df['Date']).dt.floor('D')\n"
     ]
    },
    {
     "data": {
      "text/html": [
       "<div>\n",
       "<style scoped>\n",
       "    .dataframe tbody tr th:only-of-type {\n",
       "        vertical-align: middle;\n",
       "    }\n",
       "\n",
       "    .dataframe tbody tr th {\n",
       "        vertical-align: top;\n",
       "    }\n",
       "\n",
       "    .dataframe thead th {\n",
       "        text-align: right;\n",
       "    }\n",
       "</style>\n",
       "<table border=\"1\" class=\"dataframe\">\n",
       "  <thead>\n",
       "    <tr style=\"text-align: right;\">\n",
       "      <th></th>\n",
       "      <th>Date</th>\n",
       "      <th>Offense</th>\n",
       "    </tr>\n",
       "  </thead>\n",
       "  <tbody>\n",
       "    <tr>\n",
       "      <th>0</th>\n",
       "      <td>2020-03-01</td>\n",
       "      <td>VEHICLE - STOLEN</td>\n",
       "    </tr>\n",
       "    <tr>\n",
       "      <th>1</th>\n",
       "      <td>2020-02-08</td>\n",
       "      <td>BURGLARY FROM VEHICLE</td>\n",
       "    </tr>\n",
       "    <tr>\n",
       "      <th>2</th>\n",
       "      <td>2020-11-04</td>\n",
       "      <td>BIKE - STOLEN</td>\n",
       "    </tr>\n",
       "    <tr>\n",
       "      <th>3</th>\n",
       "      <td>2020-03-10</td>\n",
       "      <td>SHOPLIFTING-GRAND THEFT ($950.01 &amp; OVER)</td>\n",
       "    </tr>\n",
       "    <tr>\n",
       "      <th>4</th>\n",
       "      <td>2020-09-09</td>\n",
       "      <td>VEHICLE - STOLEN</td>\n",
       "    </tr>\n",
       "  </tbody>\n",
       "</table>\n",
       "</div>"
      ],
      "text/plain": [
       "        Date                                   Offense\n",
       "0 2020-03-01                          VEHICLE - STOLEN\n",
       "1 2020-02-08                     BURGLARY FROM VEHICLE\n",
       "2 2020-11-04                             BIKE - STOLEN\n",
       "3 2020-03-10  SHOPLIFTING-GRAND THEFT ($950.01 & OVER)\n",
       "4 2020-09-09                          VEHICLE - STOLEN"
      ]
     },
     "execution_count": 11,
     "metadata": {},
     "output_type": "execute_result"
    }
   ],
   "source": [
    "# Clean up LA crime data to only include relevant columns: Date as datetime, and Offense\n",
    "# Fill in missing values and display the first 5 rows of the cleaned data\n",
    "\n",
    "LA_crime_df = LA_df[['DATE OCC', 'Crm Cd Desc']]\n",
    "\n",
    "# Rename columns\n",
    "LA_crime_df.columns = ['Date', 'Offense']\n",
    "\n",
    "# Convert 'Occurred Date' to datetime format and ensure consistency (set day as smallest increment)\n",
    "LA_crime_df['Date'] = pd.to_datetime(LA_crime_df['Date']).dt.floor('D')\n",
    "\n",
    "# Check for cleaned Austin data\n",
    "LA_crime_df.info()\n",
    "LA_crime_df.head()\n"
   ]
  },
  {
   "cell_type": "code",
   "execution_count": 12,
   "metadata": {},
   "outputs": [
    {
     "data": {
      "text/plain": [
       "(495, 2)"
      ]
     },
     "execution_count": 12,
     "metadata": {},
     "output_type": "execute_result"
    }
   ],
   "source": [
    "moon_limited = moon_df.drop_duplicates(subset=[\"Date\"])\n",
    "moon_limited.shape"
   ]
  },
  {
   "cell_type": "code",
   "execution_count": null,
   "metadata": {},
   "outputs": [],
   "source": []
  },
  {
   "cell_type": "code",
   "execution_count": 13,
   "metadata": {},
   "outputs": [
    {
     "name": "stdout",
     "output_type": "stream",
     "text": [
      "<class 'pandas.core.frame.DataFrame'>\n",
      "RangeIndex: 1004681 entries, 0 to 1004680\n",
      "Data columns (total 3 columns):\n",
      " #   Column      Non-Null Count    Dtype         \n",
      "---  ------      --------------    -----         \n",
      " 0   Date        1004681 non-null  datetime64[ns]\n",
      " 1   Offense     1004681 non-null  object        \n",
      " 2   Moon Phase  1004681 non-null  object        \n",
      "dtypes: datetime64[ns](1), object(2)\n",
      "memory usage: 23.0+ MB\n"
     ]
    },
    {
     "data": {
      "text/html": [
       "<div>\n",
       "<style scoped>\n",
       "    .dataframe tbody tr th:only-of-type {\n",
       "        vertical-align: middle;\n",
       "    }\n",
       "\n",
       "    .dataframe tbody tr th {\n",
       "        vertical-align: top;\n",
       "    }\n",
       "\n",
       "    .dataframe thead th {\n",
       "        text-align: right;\n",
       "    }\n",
       "</style>\n",
       "<table border=\"1\" class=\"dataframe\">\n",
       "  <thead>\n",
       "    <tr style=\"text-align: right;\">\n",
       "      <th></th>\n",
       "      <th>Date</th>\n",
       "      <th>Offense</th>\n",
       "      <th>Moon Phase</th>\n",
       "    </tr>\n",
       "  </thead>\n",
       "  <tbody>\n",
       "    <tr>\n",
       "      <th>0</th>\n",
       "      <td>2020-03-01</td>\n",
       "      <td>VEHICLE - STOLEN</td>\n",
       "      <td>Other</td>\n",
       "    </tr>\n",
       "    <tr>\n",
       "      <th>1</th>\n",
       "      <td>2020-02-08</td>\n",
       "      <td>BURGLARY FROM VEHICLE</td>\n",
       "      <td>Other</td>\n",
       "    </tr>\n",
       "    <tr>\n",
       "      <th>2</th>\n",
       "      <td>2020-11-04</td>\n",
       "      <td>BIKE - STOLEN</td>\n",
       "      <td>Other</td>\n",
       "    </tr>\n",
       "    <tr>\n",
       "      <th>3</th>\n",
       "      <td>2020-03-10</td>\n",
       "      <td>SHOPLIFTING-GRAND THEFT ($950.01 &amp; OVER)</td>\n",
       "      <td>Other</td>\n",
       "    </tr>\n",
       "    <tr>\n",
       "      <th>4</th>\n",
       "      <td>2020-09-09</td>\n",
       "      <td>VEHICLE - STOLEN</td>\n",
       "      <td>Other</td>\n",
       "    </tr>\n",
       "  </tbody>\n",
       "</table>\n",
       "</div>"
      ],
      "text/plain": [
       "        Date                                   Offense Moon Phase\n",
       "0 2020-03-01                          VEHICLE - STOLEN      Other\n",
       "1 2020-02-08                     BURGLARY FROM VEHICLE      Other\n",
       "2 2020-11-04                             BIKE - STOLEN      Other\n",
       "3 2020-03-10  SHOPLIFTING-GRAND THEFT ($950.01 & OVER)      Other\n",
       "4 2020-09-09                          VEHICLE - STOLEN      Other"
      ]
     },
     "execution_count": 13,
     "metadata": {},
     "output_type": "execute_result"
    }
   ],
   "source": [
    "# Merge dataframes and fill absent moon phase values with \"Other\"\n",
    "merged_LA_df = LA_crime_df.merge(\n",
    "    moon_limited,\n",
    "    how=\"left\",\n",
    "    on=\"Date\"\n",
    ").fillna(\"Other\")\n",
    "\n",
    "#Display the first 5 rows of the merged data\n",
    "merged_LA_df.info()\n",
    "merged_LA_df.head()"
   ]
  },
  {
   "cell_type": "code",
   "execution_count": 15,
   "metadata": {},
   "outputs": [
    {
     "data": {
      "text/plain": [
       "{'Other': 90837, 'Full Moon': 29585}"
      ]
     },
     "execution_count": 15,
     "metadata": {},
     "output_type": "execute_result"
    }
   ],
   "source": [
    "# Create a dictionary of full moon and other counts for total rows (i.e. individual crimes)\n",
    "moon_phase_crimes = merged_LA_df[\"Moon Phase\"].value_counts().to_dict()\n",
    "\n",
    "# Replace specific moon phases with \"Other\"\n",
    "moon_phase_crimes[\"Other\"] = moon_phase_crimes.pop(\"New Moon\", 0) + moon_phase_crimes.pop(\"First Quarter\", 0) + moon_phase_crimes.pop(\"Last Quarter\", 0)\n",
    "moon_phase_crimes "
   ]
  },
  {
   "cell_type": "code",
   "execution_count": 16,
   "metadata": {},
   "outputs": [
    {
     "data": {
      "text/plain": [
       "1626"
      ]
     },
     "execution_count": 16,
     "metadata": {},
     "output_type": "execute_result"
    }
   ],
   "source": [
    "# Get a total count for non-full-moon dates (i.e. days with \"Other\")\n",
    "other_dates = merged_LA_df[merged_LA_df[\"Moon Phase\"] == \"Other\"]\n",
    "days_other_moon = other_dates[\"Date\"].nunique()\n",
    "days_other_moon"
   ]
  },
  {
   "cell_type": "code",
   "execution_count": 17,
   "metadata": {},
   "outputs": [
    {
     "data": {
      "text/plain": [
       "(29585, 90837)"
      ]
     },
     "execution_count": 17,
     "metadata": {},
     "output_type": "execute_result"
    }
   ],
   "source": [
    "# Get a total count for individual crimes in each condition\n",
    "days_full_moon = 124\n",
    "full_moon_crimes = moon_phase_crimes.get(\"Full Moon\")\n",
    "other_moon_crimes = moon_phase_crimes.get(\"Other\")\n",
    "full_moon_crimes, other_moon_crimes \n"
   ]
  },
  {
   "cell_type": "code",
   "execution_count": 19,
   "metadata": {},
   "outputs": [
    {
     "name": "stdout",
     "output_type": "stream",
     "text": [
      "The Los Angeles crime rate during a full moon is 238.59 against a control rate of 55.87.\n",
      "These initial findings indicate a increased crime rate of 327.08% above the base line.\n"
     ]
    }
   ],
   "source": [
    "# Do the math for crime rate and percentage increase\n",
    "full_crime_rate = full_moon_crimes / days_full_moon\n",
    "other_crime_rate = other_moon_crimes / days_other_moon\n",
    "percent_increase = (full_crime_rate / other_crime_rate - 1) * 100\n",
    "\n",
    "print(f\"The Los Angeles crime rate during a full moon is {full_crime_rate:.2f} against a control rate of {other_crime_rate:.2f}.\")\n",
    "print(f\"These initial findings indicate a increased crime rate of {percent_increase:.2f}% above the base line.\")"
   ]
  }
 ],
 "metadata": {
  "kernelspec": {
   "display_name": "dev",
   "language": "python",
   "name": "python3"
  },
  "language_info": {
   "codemirror_mode": {
    "name": "ipython",
    "version": 3
   },
   "file_extension": ".py",
   "mimetype": "text/x-python",
   "name": "python",
   "nbconvert_exporter": "python",
   "pygments_lexer": "ipython3",
   "version": "3.10.15"
  }
 },
 "nbformat": 4,
 "nbformat_minor": 2
}
